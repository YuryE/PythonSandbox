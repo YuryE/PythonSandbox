{
 "cells": [
  {
   "cell_type": "markdown",
   "metadata": {},
   "source": [
    "## Словари"
   ]
  },
  {
   "cell_type": "markdown",
   "metadata": {},
   "source": [
    "### Отображение словарей со списками"
   ]
  },
  {
   "cell_type": "markdown",
   "metadata": {},
   "source": [
    "Вывести ключи и значения через перенос каретки"
   ]
  },
  {
   "cell_type": "code",
   "execution_count": 7,
   "metadata": {},
   "outputs": [
    {
     "name": "stdout",
     "output_type": "stream",
     "text": [
      "Dollar 12\n",
      "Half-Coin 4\n",
      "Quarter 3\n",
      "Dime 7\n"
     ]
    }
   ],
   "source": [
    "d = { 'Dollar': 12, 'Half-Coin': 4, 'Quarter': 3, 'Dime': 7 }\n",
    "print ('\\n'.join('{} {}'.format(k,v) for k,v in d.items()))"
   ]
  },
  {
   "cell_type": "markdown",
   "metadata": {},
   "source": [
    "Вывести ключи и первые значения списоков-значений через перенос каретки"
   ]
  },
  {
   "cell_type": "code",
   "execution_count": 23,
   "metadata": {},
   "outputs": [
    {
     "name": "stdout",
     "output_type": "stream",
     "text": [
      "Dollar:12\n",
      "Half-Coin:4\n",
      "Quarter:3\n",
      "Dime:7\n"
     ]
    }
   ],
   "source": [
    "d = { 'Dollar': [12,14], 'Half-Coin': [4,5], 'Quarter': [3,6], 'Dime': [7,12] }\n",
    "print ('\\n'.join('{}:{}'.format(k,v[0]) for k,v in d.items()))"
   ]
  },
  {
   "cell_type": "markdown",
   "metadata": {},
   "source": [
    "А как перечислить элементы списка-значения через запятую?"
   ]
  },
  {
   "cell_type": "code",
   "execution_count": 24,
   "metadata": {},
   "outputs": [
    {
     "name": "stdout",
     "output_type": "stream",
     "text": [
      "Dollar:[12, 14]\n",
      "Half-Coin:[4, 5]\n",
      "Quarter:[3, 6]\n",
      "Dime:[7, 12]\n"
     ]
    }
   ],
   "source": [
    "d = { 'Dollar': [12,14], 'Half-Coin': [4,5], 'Quarter': [3,6], 'Dime': [7,12] }\n",
    "print ('\\n'.join('{}:{}'.format(k,v) for k,v in d.items()))"
   ]
  },
  {
   "cell_type": "code",
   "execution_count": null,
   "metadata": {},
   "outputs": [],
   "source": []
  }
 ],
 "metadata": {
  "kernelspec": {
   "display_name": "Python 3",
   "language": "python",
   "name": "python3"
  },
  "language_info": {
   "codemirror_mode": {
    "name": "ipython",
    "version": 3
   },
   "file_extension": ".py",
   "mimetype": "text/x-python",
   "name": "python",
   "nbconvert_exporter": "python",
   "pygments_lexer": "ipython3",
   "version": "3.7.4"
  }
 },
 "nbformat": 4,
 "nbformat_minor": 2
}
