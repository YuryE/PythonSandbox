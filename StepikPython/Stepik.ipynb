{
 "cells": [
  {
   "cell_type": "markdown",
   "metadata": {},
   "source": [
    "# Первая неделя"
   ]
  },
  {
   "cell_type": "markdown",
   "metadata": {},
   "source": [
    "## Целые числа"
   ]
  },
  {
   "cell_type": "code",
   "execution_count": 1,
   "metadata": {},
   "outputs": [
    {
     "data": {
      "text/plain": [
       "12345554321"
      ]
     },
     "execution_count": 1,
     "metadata": {},
     "output_type": "execute_result"
    }
   ],
   "source": [
    "11111*1111111"
   ]
  },
  {
   "cell_type": "code",
   "execution_count": 3,
   "metadata": {},
   "outputs": [
    {
     "ename": "ZeroDivisionError",
     "evalue": "division by zero",
     "output_type": "error",
     "traceback": [
      "\u001b[0;31m---------------------------------------------------------------------------\u001b[0m",
      "\u001b[0;31mZeroDivisionError\u001b[0m                         Traceback (most recent call last)",
      "\u001b[0;32m<ipython-input-3-1cc156a7f7e2>\u001b[0m in \u001b[0;36m<module>\u001b[0;34m\u001b[0m\n\u001b[0;32m----> 1\u001b[0;31m \u001b[0;36m42\u001b[0m\u001b[0;34m/\u001b[0m\u001b[0;34m(\u001b[0m\u001b[0;36m4\u001b[0m\u001b[0;34m+\u001b[0m\u001b[0;36m2\u001b[0m\u001b[0;34m*\u001b[0m\u001b[0;34m(\u001b[0m\u001b[0;34m-\u001b[0m\u001b[0;36m2\u001b[0m\u001b[0;34m)\u001b[0m\u001b[0;34m)\u001b[0m\u001b[0;34m\u001b[0m\u001b[0;34m\u001b[0m\u001b[0m\n\u001b[0m",
      "\u001b[0;31mZeroDivisionError\u001b[0m: division by zero"
     ]
    }
   ],
   "source": [
    "42/(4+2*(-2))"
   ]
  },
  {
   "cell_type": "code",
   "execution_count": 4,
   "metadata": {},
   "outputs": [
    {
     "data": {
      "text/plain": [
       "18064773765607550801425251468864907833685590016"
      ]
     },
     "execution_count": 4,
     "metadata": {},
     "output_type": "execute_result"
    }
   ],
   "source": [
    "2014**14"
   ]
  },
  {
   "cell_type": "markdown",
   "metadata": {},
   "source": [
    "## Вещественные числа"
   ]
  },
  {
   "cell_type": "code",
   "execution_count": 7,
   "metadata": {},
   "outputs": [
    {
     "data": {
      "text/plain": [
       "1234.5"
      ]
     },
     "execution_count": 7,
     "metadata": {},
     "output_type": "execute_result"
    }
   ],
   "source": [
    "1.2345e3"
   ]
  },
  {
   "cell_type": "code",
   "execution_count": 6,
   "metadata": {},
   "outputs": [
    {
     "data": {
      "text/plain": [
       "0.0012345"
      ]
     },
     "execution_count": 6,
     "metadata": {},
     "output_type": "execute_result"
    }
   ],
   "source": [
    "1.2345e-3"
   ]
  },
  {
   "cell_type": "code",
   "execution_count": 8,
   "metadata": {},
   "outputs": [
    {
     "data": {
      "text/plain": [
       "1.806477376560755e+46"
      ]
     },
     "execution_count": 8,
     "metadata": {},
     "output_type": "execute_result"
    }
   ],
   "source": [
    "2014.**14"
   ]
  },
  {
   "cell_type": "code",
   "execution_count": 9,
   "metadata": {},
   "outputs": [
    {
     "data": {
      "text/plain": [
       "2.3333333333333335"
      ]
     },
     "execution_count": 9,
     "metadata": {},
     "output_type": "execute_result"
    }
   ],
   "source": [
    "7/3"
   ]
  },
  {
   "cell_type": "code",
   "execution_count": 10,
   "metadata": {},
   "outputs": [
    {
     "data": {
      "text/plain": [
       "2"
      ]
     },
     "execution_count": 10,
     "metadata": {},
     "output_type": "execute_result"
    }
   ],
   "source": [
    "7//3"
   ]
  },
  {
   "cell_type": "code",
   "execution_count": 11,
   "metadata": {},
   "outputs": [
    {
     "data": {
      "text/plain": [
       "2"
      ]
     },
     "execution_count": 11,
     "metadata": {},
     "output_type": "execute_result"
    }
   ],
   "source": [
    "int(2.99)"
   ]
  },
  {
   "cell_type": "code",
   "execution_count": 12,
   "metadata": {},
   "outputs": [
    {
     "data": {
      "text/plain": [
       "-1"
      ]
     },
     "execution_count": 12,
     "metadata": {},
     "output_type": "execute_result"
    }
   ],
   "source": [
    "int(-1.6)"
   ]
  },
  {
   "cell_type": "code",
   "execution_count": 13,
   "metadata": {},
   "outputs": [
    {
     "data": {
      "text/plain": [
       "89"
      ]
     },
     "execution_count": 13,
     "metadata": {},
     "output_type": "execute_result"
    }
   ],
   "source": [
    "9**19 - int(float(9**19))"
   ]
  },
  {
   "cell_type": "markdown",
   "metadata": {},
   "source": [
    "## Переменные, ввод-вывод"
   ]
  },
  {
   "cell_type": "code",
   "execution_count": 18,
   "metadata": {},
   "outputs": [
    {
     "name": "stdout",
     "output_type": "stream",
     "text": [
      "480\n",
      "8\n",
      "0\n"
     ]
    }
   ],
   "source": [
    "X=int(input())\n",
    "print(X//60)\n",
    "print(X%60)"
   ]
  },
  {
   "cell_type": "code",
   "execution_count": 21,
   "metadata": {},
   "outputs": [
    {
     "name": "stdout",
     "output_type": "stream",
     "text": [
      "485\n",
      "2\n",
      "12\n",
      "10\n",
      "17\n"
     ]
    }
   ],
   "source": [
    "X=int(input())\n",
    "H=int(input())\n",
    "M=int(input())\n",
    "print((H*60+X+M)//60)\n",
    "print((H*60+X+M)%60)"
   ]
  },
  {
   "cell_type": "markdown",
   "metadata": {},
   "source": [
    "## Логические операции, операции сравнения"
   ]
  },
  {
   "cell_type": "code",
   "execution_count": 2,
   "metadata": {},
   "outputs": [
    {
     "data": {
      "text/plain": [
       "True"
      ]
     },
     "execution_count": 2,
     "metadata": {},
     "output_type": "execute_result"
    }
   ],
   "source": [
    "a=True\n",
    "b=True\n",
    "((a and b) or ((not a) and (not b)))"
   ]
  },
  {
   "cell_type": "code",
   "execution_count": 23,
   "metadata": {},
   "outputs": [
    {
     "data": {
      "text/plain": [
       "True"
      ]
     },
     "execution_count": 23,
     "metadata": {},
     "output_type": "execute_result"
    }
   ],
   "source": [
    "x = 5\n",
    "y = 10\n",
    "y > x * x or y >= 2 * x and x < y"
   ]
  },
  {
   "cell_type": "code",
   "execution_count": 24,
   "metadata": {},
   "outputs": [
    {
     "data": {
      "text/plain": [
       "False"
      ]
     },
     "execution_count": 24,
     "metadata": {},
     "output_type": "execute_result"
    }
   ],
   "source": [
    "a = True\n",
    "b = False\n",
    "a and b or not a and not b"
   ]
  },
  {
   "cell_type": "markdown",
   "metadata": {},
   "source": [
    "## Условия if, else, elif"
   ]
  },
  {
   "cell_type": "code",
   "execution_count": 1,
   "metadata": {},
   "outputs": [
    {
     "name": "stdout",
     "output_type": "stream",
     "text": [
      "6\n",
      "10\n",
      "8\n",
      "Нормально\n"
     ]
    }
   ],
   "source": [
    "a=int(input())\n",
    "b=int(input())\n",
    "h=int(input())\n",
    "\n",
    "if a <= h <=b:\n",
    "    print('Это нормально')\n",
    "elif h<a:\n",
    "    print('Недосып')\n",
    "else:\n",
    "    print('Пересып')\n",
    "\n",
    "    \n"
   ]
  },
  {
   "cell_type": "code",
   "execution_count": 7,
   "metadata": {},
   "outputs": [
    {
     "name": "stdout",
     "output_type": "stream",
     "text": [
      "2003\n",
      "Обычный\n"
     ]
    }
   ],
   "source": [
    "y=int(input())\n",
    "if 1900<=y<=3000:\n",
    "    if y%4==0 and y%100!=0 or y%400==0:\n",
    "        print('Високосный')\n",
    "    else:\n",
    "        print(\"Обычный\")"
   ]
  },
  {
   "cell_type": "markdown",
   "metadata": {},
   "source": [
    "## Задачи"
   ]
  },
  {
   "cell_type": "code",
   "execution_count": 16,
   "metadata": {},
   "outputs": [
    {
     "name": "stdout",
     "output_type": "stream",
     "text": [
      "3\n",
      "4\n",
      "5\n",
      "6.0\n"
     ]
    }
   ],
   "source": [
    "a=int(input())\n",
    "b=int(input())\n",
    "c=int(input())\n",
    "p=(a+b+c)/2\n",
    "s=(p*(p-a)*(p-b)*(p-c))**(1/2)\n",
    "print(s)"
   ]
  },
  {
   "cell_type": "code",
   "execution_count": 20,
   "metadata": {},
   "outputs": [
    {
     "name": "stdout",
     "output_type": "stream",
     "text": [
      "20\n",
      "True\n"
     ]
    }
   ],
   "source": [
    "n=int(input())\n",
    "print(-15<n<=12 or 14<n<17 or n>=19)"
   ]
  },
  {
   "cell_type": "code",
   "execution_count": 29,
   "metadata": {},
   "outputs": [
    {
     "name": "stdout",
     "output_type": "stream",
     "text": [
      "2\n",
      "3\n",
      "/\n",
      "0.6666666666666666\n"
     ]
    }
   ],
   "source": [
    "f=float(input())\n",
    "s=float(input())\n",
    "o=input()\n",
    "\n",
    "if o=='+':\n",
    "    print(f+s)\n",
    "elif o=='-':\n",
    "    print(f-s)\n",
    "elif o=='*':\n",
    "    print(f*s)\n",
    "elif o=='pow':\n",
    "    print(f**s)\n",
    "elif s==0 and o in ('/','mod','div'):\n",
    "    print('Деление на 0!')\n",
    "elif o=='/':\n",
    "    print(f/s)\n",
    "elif o=='mod':\n",
    "    print(f%s)\n",
    "elif o=='div':\n",
    "    print(f//s)\n",
    "\n",
    "    "
   ]
  },
  {
   "cell_type": "code",
   "execution_count": 1,
   "metadata": {},
   "outputs": [
    {
     "name": "stdout",
     "output_type": "stream",
     "text": [
      "круг\n",
      "1\n",
      "2\n",
      "3\n",
      "4\n",
      "50.24\n"
     ]
    }
   ],
   "source": [
    "fig=input()\n",
    "if fig=='треугольник':\n",
    "    a=float(input())\n",
    "    b=float(input())\n",
    "    c=float(input())\n",
    "    p=(a+b+c)/2\n",
    "    s=(p*(p-a)*(p-b)*(p-c))**(1/2)\n",
    "    print(s)\n",
    "elif fig=='прямоугольник':\n",
    "    a=float(input())\n",
    "    b=float(input())\n",
    "    print(a*b)\n",
    "elif fig=='круг':\n",
    "    r=float(input())\n",
    "    print(3.14*r**2)"
   ]
  },
  {
   "cell_type": "code",
   "execution_count": 13,
   "metadata": {},
   "outputs": [
    {
     "name": "stdout",
     "output_type": "stream",
     "text": [
      "5\n",
      "4\n",
      "5\n",
      "5\n",
      "4\n",
      "5\n",
      "5\n",
      "4\n",
      "5\n"
     ]
    }
   ],
   "source": [
    "#Моё:\n",
    "a=int(input())\n",
    "b=int(input())\n",
    "c=int(input())\n",
    "if a>=b>=c:\n",
    "    print(a,c,b,sep='\\n')\n",
    "elif a>=c>=b:\n",
    "    print(a,b,c,sep='\\n')\n",
    "elif b>=a>=c:\n",
    "    print(b,c,a,sep='\\n')\n",
    "elif b>=c>=a:\n",
    "    print(b,a,c,sep='\\n')\n",
    "elif c>=b>=a:\n",
    "    print(c,a,b,sep='\\n')\n",
    "elif c>=a>=b:\n",
    "    print(c,b,a,sep='\\n')\n",
    "#Понравилось:    \n",
    "a, b = (a, b) if a >= b else (b, a)\n",
    "b, c = (b, c) if b >= c else (c, b)\n",
    "a, b = (a, b) if a >= b else (b, a)\n",
    "print(a,c,b,sep='\\n')\n"
   ]
  },
  {
   "cell_type": "code",
   "execution_count": 131,
   "metadata": {},
   "outputs": [
    {
     "name": "stdout",
     "output_type": "stream",
     "text": [
      "144\n",
      "144 программиста\n"
     ]
    }
   ],
   "source": [
    "#Моё:\n",
    "n=int(input())\n",
    "if n%10==1  and n%100!=10+n%10:  print(n,'программист')\n",
    "elif 1<n%10<5 and n%100!=10+n%10:  print(n,'программиста')\n",
    "else:                            print(n,'программистов')\n",
    "Коротыш:\n",
    "print(n,'программист'+('ов' if n%10==0 or 4<n%10<10 or 10<n%100<15 else 'а' if 1<n%10<5 else ''))\n",
    "Мой коротыш:\n",
    "print(n,'программист'+('ов' if 9<n%100<21 else '' if n%10==1 else 'a' if 1<n%10<5 else 'ов'))"
   ]
  },
  {
   "cell_type": "code",
   "execution_count": null,
   "metadata": {},
   "outputs": [],
   "source": [
    "n=int(input())\n",
    "print('Счастливый' if n//100000+n//10000%10+n//1000%10==n//100%10+n//10%10+n%10 else \"Обычный\")"
   ]
  },
  {
   "cell_type": "markdown",
   "metadata": {},
   "source": [
    "# Вторая неделя"
   ]
  },
  {
   "cell_type": "markdown",
   "metadata": {},
   "source": [
    "## While"
   ]
  },
  {
   "cell_type": "code",
   "execution_count": 1,
   "metadata": {},
   "outputs": [
    {
     "name": "stdout",
     "output_type": "stream",
     "text": [
      "*\n",
      "**\n",
      "*\n",
      "*\n",
      "**\n",
      "*\n",
      "***\n",
      "*\n",
      "**\n",
      "***\n"
     ]
    }
   ],
   "source": [
    "i = 0\n",
    "while i < 5:\n",
    "    print('*')\n",
    "    if i % 2 == 0:\n",
    "        print('**')\n",
    "    if i > 2:\n",
    "        print('***')\n",
    "    i = i + 1"
   ]
  },
  {
   "cell_type": "code",
   "execution_count": 1,
   "metadata": {},
   "outputs": [
    {
     "name": "stdout",
     "output_type": "stream",
     "text": [
      "123\n",
      "2\n",
      "3\n",
      "4\n",
      "0\n",
      "132\n"
     ]
    }
   ],
   "source": [
    "i=0\n",
    "inp=1\n",
    "while inp!=0:\n",
    "    inp=int(input())\n",
    "    i+=inp\n",
    "print(i)"
   ]
  },
  {
   "cell_type": "code",
   "execution_count": 10,
   "metadata": {},
   "outputs": [
    {
     "name": "stdout",
     "output_type": "stream",
     "text": [
      "5\n",
      "6\n",
      "30\n"
     ]
    }
   ],
   "source": [
    "a,b=int(input()),int(input())\n",
    "c=a*b\n",
    "cmin=c\n",
    "while c>b and c>a:\n",
    "    c-=1\n",
    "    if c%b==0 and c%a==0:\n",
    "        cmin=c\n",
    "print(cmin)"
   ]
  },
  {
   "cell_type": "markdown",
   "metadata": {},
   "source": [
    "## Break, Continue"
   ]
  },
  {
   "cell_type": "code",
   "execution_count": 28,
   "metadata": {},
   "outputs": [
    {
     "name": "stdout",
     "output_type": "stream",
     "text": [
      "s 1\n",
      "i 2\n",
      "s 4\n",
      "i 4\n",
      "s 9\n",
      "i 6\n",
      "s 16\n",
      "7\n"
     ]
    }
   ],
   "source": [
    "i = 0\n",
    "s = 0\n",
    "while i < 10:\n",
    "    i = i + 1\n",
    "    print('i1',i) \n",
    "    s = s + i\n",
    "    print('s',s)\n",
    "    if s > 15:\n",
    "        break\n",
    "    i = i + 1\n",
    "    print('i2',i)\n",
    "print(i)\n"
   ]
  },
  {
   "cell_type": "code",
   "execution_count": 30,
   "metadata": {},
   "outputs": [
    {
     "name": "stdout",
     "output_type": "stream",
     "text": [
      "i1 1\n",
      "s 1\n",
      "i2 2\n",
      "i1 3\n",
      "s 4\n",
      "i2 4\n",
      "i1 5\n",
      "s 9\n",
      "i2 6\n",
      "i1 7\n",
      "s 16\n",
      "i1 8\n",
      "s 24\n",
      "i1 9\n",
      "s 33\n",
      "i1 10\n",
      "s 43\n",
      "10\n"
     ]
    }
   ],
   "source": [
    "i = 0\n",
    "s = 0\n",
    "while i < 10:\n",
    "    i = i + 1\n",
    "    print('i1',i)\n",
    "    s = s + i\n",
    "    print('s',s)\n",
    "    if s > 15:\n",
    "        continue\n",
    "    i = i + 1\n",
    "    print('i2',i)\n",
    "print(i)"
   ]
  },
  {
   "cell_type": "code",
   "execution_count": 31,
   "metadata": {},
   "outputs": [
    {
     "name": "stdout",
     "output_type": "stream",
     "text": [
      "1\n",
      "2\n",
      "3\n",
      "11\n",
      "11\n",
      "12\n",
      "12\n",
      "13\n",
      "13\n",
      "101\n"
     ]
    }
   ],
   "source": [
    "while True:\n",
    "    i=int(input())\n",
    "    if i <10:\n",
    "        continue\n",
    "    elif i >100:\n",
    "        break\n",
    "    else:\n",
    "        print(i)"
   ]
  },
  {
   "cell_type": "markdown",
   "metadata": {},
   "source": [
    "## For"
   ]
  },
  {
   "cell_type": "code",
   "execution_count": 2,
   "metadata": {},
   "outputs": [
    {
     "name": "stdout",
     "output_type": "stream",
     "text": [
      "4\n",
      "5\n",
      "6\n",
      "7\n",
      "\t6\t7\n",
      "4\t24\t28\n",
      "5\t30\t35\n",
      "2\n",
      "4\n",
      "2\n",
      "5\n",
      "\t2\t3\t4\t5\n",
      "2\t4\t6\t8\t10\t\n",
      "3\t6\t9\t12\t15\t\n",
      "4\t8\t12\t16\t20\t\n"
     ]
    }
   ],
   "source": [
    "#Моё\n",
    "a=int(input())\n",
    "b=int(input())\n",
    "c=int(input())\n",
    "d=int(input())\n",
    "header=''\n",
    "for col in range(c,d+1):\n",
    "    header=header+'\\t'+str(col)\n",
    "print(header)\n",
    "for row in range (a,b+1):\n",
    "    cells=str(row)\n",
    "    for col in range(c,d+1):\n",
    "        cells=cells+'\\t'+str(col*row)\n",
    "    print(cells)\n",
    "    \n",
    "#Понравилось\n",
    "a, b, c, d = int(input()), int(input()), int(input()), int(input())\n",
    "for i in range(c, d + 1):\n",
    "    print('\\t'+str(i), end='')\n",
    "print()\n",
    "for j in range(a, b + 1):\n",
    "    print(j, end='\\t')\n",
    "    for k in range(c, d + 1):\n",
    "        print(j * k, end='\\t')\n",
    "    print()"
   ]
  },
  {
   "cell_type": "code",
   "execution_count": 3,
   "metadata": {},
   "outputs": [
    {
     "name": "stdout",
     "output_type": "stream",
     "text": [
      "-4\n",
      "2\n",
      "-1.5\n",
      "-1.5\n",
      "-1.5\n"
     ]
    }
   ],
   "source": [
    "#Моё:\n",
    "a=int(input())\n",
    "b=int(input())\n",
    "sm,cn,av=0,0,None\n",
    "for i in range(a,b+1):\n",
    "    if i%3==0:\n",
    "        sm+=i\n",
    "        cn+=1\n",
    "        av=sm/cn\n",
    "print(av)\n",
    "#Понравилось:\n",
    "a += -a%3\n",
    "b -= b%3\n",
    "print((a+b)/2)\n",
    "#На вдохновении\n",
    "for i in range(a+(-a%3),b-b%3+1,3):\n",
    "        sm+=i\n",
    "        cn+=1\n",
    "        av=sm/cn\n",
    "print(av)"
   ]
  },
  {
   "cell_type": "markdown",
   "metadata": {},
   "source": [
    "## Строки"
   ]
  },
  {
   "cell_type": "code",
   "execution_count": 20,
   "metadata": {},
   "outputs": [
    {
     "name": "stdout",
     "output_type": "stream",
     "text": [
      "asdfaasdcgcg\n",
      "33.33333333333333\n"
     ]
    }
   ],
   "source": [
    "a=input()\n",
    "a=a.upper()\n",
    "#Можно было записать a=input().upper()\n",
    "print((a.count('C')+a.count('G'))/len(a)*100)"
   ]
  },
  {
   "cell_type": "code",
   "execution_count": 17,
   "metadata": {},
   "outputs": [
    {
     "name": "stdout",
     "output_type": "stream",
     "text": [
      "def abcdef defghijk kjihgfedcba ijk abcde kigec\n",
      "1\n",
      "1\n"
     ]
    }
   ],
   "source": [
    "s = 'abcdefghijk'\n",
    "print(s[3:6],end=' ') # [3;6)\n",
    "print(s[:6],end=' ') # [0;6)\n",
    "print(s[3:],end=' ') # [3;последний]\n",
    "print(s[::-1],end=' ') # [последний;0]\n",
    "print(s[-3:],end=' ') # [3-й с конца; последний] \n",
    "print(s[:-6],end=' ') # [0;6-ой с конца)\n",
    "print(s[-1:-10:-2]) # [1-ый с конца; 10-й с конца)\n",
    "#Для s длинной m\n",
    "#s[x:y] --> Все символы [(m+x)%m+1 ; (m+y)%m+1).\n",
    "#Т.е. С (m+x)%m+1 включительно и ПО (m+y)%m+1 НЕ включительно\n",
    "m=11      # Длина списка \n",
    "n=-0      # Значение атрибута в s[n:n]\n",
    "print((m+n)%m+1) # Порядковый номер символа\n",
    "print((m+n)%m+1+n//m*m) #Порядковый номер символа, для случая n>=m"
   ]
  },
  {
   "cell_type": "code",
   "execution_count": 2,
   "metadata": {},
   "outputs": [
    {
     "name": "stdout",
     "output_type": "stream",
     "text": [
      "asdffdsaasdf\n",
      "a1s1d1f2d1s1a2s1d1f1\n",
      "asdffdsaasdf\n",
      "a1s1d1f2d1s1a2s1d1f1asdffdsaasdf\n",
      "a1s1d1f2d1s1a2s1d1f1"
     ]
    }
   ],
   "source": [
    "#Moё:\n",
    "\n",
    "string=input()\n",
    "encodedstring=''\n",
    "symbol=''\n",
    "counter=''\n",
    "for i in string:\n",
    "    if symbol==i:\n",
    "        counter+=1\n",
    "    else:\n",
    "        encodedstring+=symbol+str(counter)\n",
    "        counter=1\n",
    "        symbol=i\n",
    "        \n",
    "encodedstring+=symbol+str(counter)\n",
    "print(encodedstring)\n",
    "\n",
    "#Понравилось:\n",
    "\n",
    "genome = input()+' '\n",
    "s = 0\n",
    "n=genome[0]\n",
    "for i in genome:      \n",
    "    if n!=i:\n",
    "        print(n + str(s), end = '')\n",
    "        s=0\n",
    "        n=i\n",
    "    s+=1\n",
    "\n",
    "#На вдохновении:\n",
    "\n",
    "string=input()+' '\n",
    "symbol=''\n",
    "counter=''\n",
    "for i in string:\n",
    "    if symbol!=i:\n",
    "        print(symbol+str(counter),end='')\n",
    "        counter=0\n",
    "        symbol=i\n",
    "    counter+=1"
   ]
  },
  {
   "cell_type": "markdown",
   "metadata": {},
   "source": [
    "## Списки"
   ]
  },
  {
   "cell_type": "code",
   "execution_count": 1,
   "metadata": {},
   "outputs": [
    {
     "name": "stdout",
     "output_type": "stream",
     "text": [
      "1 2 3\n",
      "6\n"
     ]
    }
   ],
   "source": [
    "inp=[int(i) for i in input().split(' ')]\n",
    "print(sum(inp))"
   ]
  },
  {
   "cell_type": "code",
   "execution_count": 6,
   "metadata": {},
   "outputs": [
    {
     "name": "stdout",
     "output_type": "stream",
     "text": [
      "10 20\n",
      "40 20 "
     ]
    }
   ],
   "source": [
    "inp=[int(i) for i in input().split(' ')]\n",
    "c=0\n",
    "m=len(inp)\n",
    "while c < m:\n",
    "    if m==1:\n",
    "        print (inp[c])\n",
    "    else:\n",
    "        print(inp[c-1]+inp[(c+1)%m],end=' ')\n",
    "    c+=1"
   ]
  },
  {
   "cell_type": "code",
   "execution_count": 12,
   "metadata": {},
   "outputs": [
    {
     "name": "stdout",
     "output_type": "stream",
     "text": [
      "1 2 1 3\n",
      "1 "
     ]
    }
   ],
   "source": [
    "inp=[int(i) for i in input().split(' ')]\n",
    "#for i in len(inp):\n",
    "unique=[]\n",
    "for i in inp:\n",
    "    if inp.count(i)>1 and i not in unique:\n",
    "        print(i, end=' ')\n",
    "        unique.append(i)"
   ]
  },
  {
   "cell_type": "markdown",
   "metadata": {},
   "source": [
    "## Задачи"
   ]
  },
  {
   "cell_type": "code",
   "execution_count": 35,
   "metadata": {},
   "outputs": [
    {
     "name": "stdout",
     "output_type": "stream",
     "text": [
      "1\n",
      "2\n",
      "3\n",
      "-6\n",
      "50\n"
     ]
    }
   ],
   "source": [
    "#Moё:\n",
    "integers=[]\n",
    "x=0\n",
    "while sum(integers)!=0 or len(integers)==0:\n",
    "    integers.append(int(input()))\n",
    "for i in integers:\n",
    "    x+=i**2\n",
    "print(x)\n",
    "#Понравилось:\n",
    "s=[int(input())]\n",
    "while sum(s)!=0: s.append(int(input()))\n",
    "print(sum([i**2 for i in s]))"
   ]
  },
  {
   "cell_type": "code",
   "execution_count": 31,
   "metadata": {},
   "outputs": [
    {
     "data": {
      "text/plain": [
       "[1, 3, 4, -4, -4]"
      ]
     },
     "execution_count": 31,
     "metadata": {},
     "output_type": "execute_result"
    }
   ],
   "source": []
  },
  {
   "cell_type": "code",
   "execution_count": 5,
   "metadata": {},
   "outputs": [
    {
     "name": "stdout",
     "output_type": "stream",
     "text": [
      "7\n",
      "1\n",
      "2\n",
      "2\n",
      "3\n",
      "3\n",
      "3\n",
      "4\n"
     ]
    }
   ],
   "source": [
    "#Моё:\n",
    "steps=int(input())\n",
    "lis=[]\n",
    "n=0\n",
    "while len(lis)<steps:\n",
    "    n+=1\n",
    "    for i in range(n):\n",
    "        print(n)\n",
    "        lis.append(n)\n",
    "        if len(lis)==steps:\n",
    "            break\n",
    "#Понравилось:\n",
    "n = int(input())\n",
    "a = []\n",
    "i = 0\n",
    "while len(a) < n:\n",
    "    a += [i] * i\n",
    "    i += 1\n",
    "print(*a[:n])"
   ]
  },
  {
   "cell_type": "code",
   "execution_count": 2,
   "metadata": {},
   "outputs": [
    {
     "name": "stdout",
     "output_type": "stream",
     "text": [
      "1\n",
      "4\n"
     ]
    }
   ],
   "source": []
  },
  {
   "cell_type": "code",
   "execution_count": 3,
   "metadata": {},
   "outputs": [
    {
     "name": "stdout",
     "output_type": "stream",
     "text": [
      "1 2 3 4 5 6 5 4 3 2 1\n",
      "2\n",
      "1 9 "
     ]
    }
   ],
   "source": [
    "#Моё:\n",
    "lst=[int(i) for i in input().split(' ')]\n",
    "x=int(input())\n",
    "i=0\n",
    "if x in lst:\n",
    "    while x in lst[i:]:\n",
    "        print(lst.index(x,i),end=' ')\n",
    "        i=lst.index(x,i)+1\n",
    "else:\n",
    "    print('Отсутствует')\n",
    "#Понравилось:\n",
    "l = [int(i) for i in input().split()]\n",
    "x = int(input())\n",
    "if not x in l: print('Отсутствует')\n",
    "for i in range(len(l)):\n",
    "    if l[i]==x: print(i, end = ' ')\n",
    "#1 2 3 4 5 6 5 4 3 2 1"
   ]
  },
  {
   "cell_type": "code",
   "execution_count": 60,
   "metadata": {},
   "outputs": [
    {
     "name": "stdout",
     "output_type": "stream",
     "text": [
      "1 2 3\n",
      "3 2 1\n",
      "5 4 3\n",
      "end\n",
      "13 10 7 \n",
      "9 10 11 \n",
      "11 12 13 \n"
     ]
    }
   ],
   "source": [
    "i=[]\n",
    "while True:\n",
    "    a=[i for i in input().split(' ')]\n",
    "    if a!=['end']:\n",
    "        i+=[[int(i) for i in a]]\n",
    "        #print(*i,sep='\\n')\n",
    "    else:\n",
    "        for j in range(len(i)):\n",
    "            for o in range(len(i[j])):\n",
    "                #print(i[j][o-1])\n",
    "                #print(i[j][(o+1)%len(i[j])])\n",
    "                #print(i[j-1][o])\n",
    "                #print(i[(j+1)%len(i)][o])\n",
    "                print(i[j][o-1]+i[j][(o+1)%len(i[j])]+i[j-1][o]+i[(j+1)%len(i)][o],end=' ')\n",
    "            print()\n",
    "        break"
   ]
  },
  {
   "cell_type": "code",
   "execution_count": 68,
   "metadata": {},
   "outputs": [
    {
     "name": "stdout",
     "output_type": "stream",
     "text": [
      "5\n",
      "1 2 3 4 5\n",
      "16 17 18 19 6\n",
      "15 24 25 20 7\n",
      "14 23 22 21 8\n",
      "13 12 11 10 9\n",
      "5\n",
      "1 2 3 4 5\n",
      "16 17 18 19 6\n",
      "15 24 25 20 7\n",
      "14 23 22 21 8\n",
      "13 12 11 10 9\n"
     ]
    }
   ],
   "source": [
    "#Моё\n",
    "sq=int(input())\n",
    "a=[[0]*sq for k in range(sq)]\n",
    "step=0\n",
    "size=sq\n",
    "it=0\n",
    "for i in range(1, sq**2+1):\n",
    "    step+=1\n",
    "    if step<=size:\n",
    "        #print('h',i)\n",
    "        a[it][step-1+it]=i\n",
    "    elif step<=2*size-1:\n",
    "        #print('v',i)\n",
    "        a[step%size+it][-1-it]=i\n",
    "    elif step<=3*size-2:\n",
    "        #print('hb',i)\n",
    "        a[-1-it][-(step%(2*size-1))-1-it]=i\n",
    "    elif step<4*size-4:\n",
    "        #print('vb',i)\n",
    "        a[-1-step%(3*size-2)-it][it]=i\n",
    "    else:\n",
    "        #print('vb',i)\n",
    "        a[-1-step%(3*size-2)-it][it]=i\n",
    "        step=0\n",
    "        size-=2\n",
    "        it+=1\n",
    "        #print('newstep',step,' newsize',size)\n",
    "        \n",
    "for i in a:\n",
    "    print(*i)\n",
    "\n",
    "    #Понравилось:\n",
    "n=int(input())\n",
    "t=[[0]*n for i in range (n)]\n",
    "i,j=0,0\n",
    "for k in range(1, n*n+1):\n",
    "    t[i][j]=k\n",
    "    if k==n*n: break\n",
    "    if i<=j+1 and i+j<n-1: j+=1\n",
    "    elif i<j and i+j>=n-1: i+=1\n",
    "    elif i>=j and i+j>n-1: j-=1\n",
    "    elif i>j+1 and i+j<=n-1: i-=1\n",
    "for i in range(n):\n",
    "    print(*t[i])"
   ]
  },
  {
   "cell_type": "markdown",
   "metadata": {},
   "source": [
    "# Третья неделя"
   ]
  },
  {
   "cell_type": "markdown",
   "metadata": {},
   "source": [
    "## Функции"
   ]
  },
  {
   "cell_type": "code",
   "execution_count": 69,
   "metadata": {},
   "outputs": [],
   "source": [
    "def f(x):\n",
    "    if x<=-2:\n",
    "        k=1-(x+2)**2\n",
    "    elif -2<x<=2:\n",
    "        k=-x/2\n",
    "    else:\n",
    "        k=(x-2)**2+1\n",
    "    return k"
   ]
  },
  {
   "cell_type": "code",
   "execution_count": 28,
   "metadata": {},
   "outputs": [],
   "source": [
    "#Моё:\n",
    "def modify_list(ls):\n",
    "    k=[int(i/2) for i in ls if i%2==0]\n",
    "    ls.clear()\n",
    "    ls+=k\n",
    "#Понравилось:\n",
    "def modify_list(l):\n",
    "    l[:] = [i//2 for i in l if not i % 2]"
   ]
  },
  {
   "cell_type": "markdown",
   "metadata": {},
   "source": [
    "## Словари"
   ]
  },
  {
   "cell_type": "code",
   "execution_count": 115,
   "metadata": {},
   "outputs": [],
   "source": [
    "a={}"
   ]
  },
  {
   "cell_type": "code",
   "execution_count": 113,
   "metadata": {},
   "outputs": [],
   "source": [
    "#Моё:\n",
    "def update_dictionary(d,key,value):\n",
    "    if key in d.keys():\n",
    "        d[key]+=[value]\n",
    "    elif key*2 in d.keys():\n",
    "        d[key*2]+=[value]\n",
    "    else:\n",
    "        d.update({key*2:[value]})\n",
    "#Понравилось:\n",
    "def update_dictionary(d, key, value):\n",
    "    key += key * (key not in d)\n",
    "    d[key] = d.get(key, []) + [value]"
   ]
  },
  {
   "cell_type": "code",
   "execution_count": null,
   "metadata": {},
   "outputs": [
    {
     "name": "stdout",
     "output_type": "stream",
     "text": [
      "ds ds as as\n",
      "as 2\n",
      "ds 2\n"
     ]
    }
   ],
   "source": [
    "#Моё:\n",
    "a=[i.lower() for i in input().split(' ')]\n",
    "d={}\n",
    "for i in a:\n",
    "    if i in d:\n",
    "        d[i]+=1\n",
    "    else:\n",
    "        d.update({i:1})\n",
    "print(*sorted([i+' '+str(d[i]) for i in d]),sep='\\n')\n",
    "#Понравилось:\n",
    "s = input().lower().split()\n",
    "for i in set(s):\n",
    "    print(i, s.count(i))"
   ]
  },
  {
   "cell_type": "code",
   "execution_count": 205,
   "metadata": {},
   "outputs": [
    {
     "name": "stdout",
     "output_type": "stream",
     "text": [
      "5\n",
      "3\n",
      "6\n",
      "3\n",
      "6\n",
      "2\n",
      "4\n",
      "4\n",
      "8\n",
      "4\n",
      "8\n"
     ]
    }
   ],
   "source": [
    "def f(x):\n",
    "    return x*2\n",
    "# Моё:\n",
    "d={}\n",
    "for i in range(int(input())):\n",
    "    x=int(input())\n",
    "    print(d[x] if x in d else d.setdefault(x,f(x)))\n",
    "#Понравилось:\n",
    "a=[int(input()) for i in range(int(input()))]\n",
    "b={x:f(x) for x in set(a)}\n",
    "for i in a:\n",
    "    print(b[i])"
   ]
  },
  {
   "cell_type": "markdown",
   "metadata": {},
   "source": [
    "## Файловый ввод/вывод"
   ]
  },
  {
   "cell_type": "code",
   "execution_count": 51,
   "metadata": {},
   "outputs": [],
   "source": [
    "a=open(r'/home/yury/Desktop/answer.txt',mode='w')\n",
    "with open(r'/home/yury/Desktop/test.txt') as t:\n",
    "    num='0'\n",
    "    lit=''\n",
    "    for i in t.read():\n",
    "        if i.isdigit():\n",
    "            num+=i\n",
    "        else:\n",
    "            a.write(lit*int(num))\n",
    "            lit=i\n",
    "            num=''"
   ]
  },
  {
   "cell_type": "code",
   "execution_count": 54,
   "metadata": {},
   "outputs": [],
   "source": [
    "d={'a':1,'b':2,'c':3}"
   ]
  },
  {
   "cell_type": "code",
   "execution_count": 39,
   "metadata": {},
   "outputs": [
    {
     "ename": "TypeError",
     "evalue": "unsupported operand type(s) for +: 'int' and 'str'",
     "output_type": "error",
     "traceback": [
      "\u001b[0;31m---------------------------------------------------------------------------\u001b[0m",
      "\u001b[0;31mTypeError\u001b[0m                                 Traceback (most recent call last)",
      "\u001b[0;32m<ipython-input-39-726ca9fc6e5c>\u001b[0m in \u001b[0;36m<module>\u001b[0;34m\u001b[0m\n\u001b[1;32m      2\u001b[0m \u001b[0;32mwith\u001b[0m \u001b[0mopen\u001b[0m\u001b[0;34m(\u001b[0m\u001b[0;34mr'/home/yury/Desktop/test.txt'\u001b[0m\u001b[0;34m)\u001b[0m \u001b[0;32mas\u001b[0m \u001b[0mt\u001b[0m\u001b[0;34m:\u001b[0m\u001b[0;34m\u001b[0m\u001b[0;34m\u001b[0m\u001b[0m\n\u001b[1;32m      3\u001b[0m     \u001b[0md\u001b[0m\u001b[0;34m=\u001b[0m\u001b[0;34m{\u001b[0m\u001b[0mk\u001b[0m\u001b[0;34m[\u001b[0m\u001b[0;36m0\u001b[0m\u001b[0;34m]\u001b[0m\u001b[0;34m:\u001b[0m\u001b[0mk\u001b[0m\u001b[0;34m[\u001b[0m\u001b[0;36m1\u001b[0m\u001b[0;34m:\u001b[0m\u001b[0;34m]\u001b[0m \u001b[0;32mfor\u001b[0m \u001b[0mk\u001b[0m \u001b[0;32min\u001b[0m \u001b[0;34m[\u001b[0m\u001b[0mi\u001b[0m\u001b[0;34m.\u001b[0m\u001b[0mstrip\u001b[0m\u001b[0;34m(\u001b[0m\u001b[0;34m)\u001b[0m\u001b[0;34m.\u001b[0m\u001b[0msplit\u001b[0m\u001b[0;34m(\u001b[0m\u001b[0;34m';'\u001b[0m\u001b[0;34m)\u001b[0m \u001b[0;32mfor\u001b[0m \u001b[0mi\u001b[0m \u001b[0;32min\u001b[0m \u001b[0mt\u001b[0m\u001b[0;34m]\u001b[0m\u001b[0;34m}\u001b[0m\u001b[0;34m\u001b[0m\u001b[0;34m\u001b[0m\u001b[0m\n\u001b[0;32m----> 4\u001b[0;31m     \u001b[0mprint\u001b[0m\u001b[0;34m(\u001b[0m\u001b[0;34m*\u001b[0m\u001b[0;34m[\u001b[0m\u001b[0msum\u001b[0m\u001b[0;34m(\u001b[0m\u001b[0md\u001b[0m\u001b[0;34m[\u001b[0m\u001b[0mi\u001b[0m\u001b[0;34m]\u001b[0m\u001b[0;34m)\u001b[0m\u001b[0;34m/\u001b[0m\u001b[0mlen\u001b[0m\u001b[0;34m(\u001b[0m\u001b[0md\u001b[0m\u001b[0;34m[\u001b[0m\u001b[0mi\u001b[0m\u001b[0;34m]\u001b[0m\u001b[0;34m)\u001b[0m \u001b[0;32mfor\u001b[0m \u001b[0mi\u001b[0m \u001b[0;32min\u001b[0m \u001b[0md\u001b[0m\u001b[0;34m]\u001b[0m\u001b[0;34m)\u001b[0m\u001b[0;34m\u001b[0m\u001b[0;34m\u001b[0m\u001b[0m\n\u001b[0m\u001b[1;32m      5\u001b[0m \u001b[0;31m#     for i in t:\u001b[0m\u001b[0;34m\u001b[0m\u001b[0;34m\u001b[0m\u001b[0;34m\u001b[0m\u001b[0m\n\u001b[1;32m      6\u001b[0m \u001b[0;31m#         for a in i.strip().split():\u001b[0m\u001b[0;34m\u001b[0m\u001b[0;34m\u001b[0m\u001b[0;34m\u001b[0m\u001b[0m\n",
      "\u001b[0;32m<ipython-input-39-726ca9fc6e5c>\u001b[0m in \u001b[0;36m<listcomp>\u001b[0;34m(.0)\u001b[0m\n\u001b[1;32m      2\u001b[0m \u001b[0;32mwith\u001b[0m \u001b[0mopen\u001b[0m\u001b[0;34m(\u001b[0m\u001b[0;34mr'/home/yury/Desktop/test.txt'\u001b[0m\u001b[0;34m)\u001b[0m \u001b[0;32mas\u001b[0m \u001b[0mt\u001b[0m\u001b[0;34m:\u001b[0m\u001b[0;34m\u001b[0m\u001b[0;34m\u001b[0m\u001b[0m\n\u001b[1;32m      3\u001b[0m     \u001b[0md\u001b[0m\u001b[0;34m=\u001b[0m\u001b[0;34m{\u001b[0m\u001b[0mk\u001b[0m\u001b[0;34m[\u001b[0m\u001b[0;36m0\u001b[0m\u001b[0;34m]\u001b[0m\u001b[0;34m:\u001b[0m\u001b[0mk\u001b[0m\u001b[0;34m[\u001b[0m\u001b[0;36m1\u001b[0m\u001b[0;34m:\u001b[0m\u001b[0;34m]\u001b[0m \u001b[0;32mfor\u001b[0m \u001b[0mk\u001b[0m \u001b[0;32min\u001b[0m \u001b[0;34m[\u001b[0m\u001b[0mi\u001b[0m\u001b[0;34m.\u001b[0m\u001b[0mstrip\u001b[0m\u001b[0;34m(\u001b[0m\u001b[0;34m)\u001b[0m\u001b[0;34m.\u001b[0m\u001b[0msplit\u001b[0m\u001b[0;34m(\u001b[0m\u001b[0;34m';'\u001b[0m\u001b[0;34m)\u001b[0m \u001b[0;32mfor\u001b[0m \u001b[0mi\u001b[0m \u001b[0;32min\u001b[0m \u001b[0mt\u001b[0m\u001b[0;34m]\u001b[0m\u001b[0;34m}\u001b[0m\u001b[0;34m\u001b[0m\u001b[0;34m\u001b[0m\u001b[0m\n\u001b[0;32m----> 4\u001b[0;31m     \u001b[0mprint\u001b[0m\u001b[0;34m(\u001b[0m\u001b[0;34m*\u001b[0m\u001b[0;34m[\u001b[0m\u001b[0msum\u001b[0m\u001b[0;34m(\u001b[0m\u001b[0md\u001b[0m\u001b[0;34m[\u001b[0m\u001b[0mi\u001b[0m\u001b[0;34m]\u001b[0m\u001b[0;34m)\u001b[0m\u001b[0;34m/\u001b[0m\u001b[0mlen\u001b[0m\u001b[0;34m(\u001b[0m\u001b[0md\u001b[0m\u001b[0;34m[\u001b[0m\u001b[0mi\u001b[0m\u001b[0;34m]\u001b[0m\u001b[0;34m)\u001b[0m \u001b[0;32mfor\u001b[0m \u001b[0mi\u001b[0m \u001b[0;32min\u001b[0m \u001b[0md\u001b[0m\u001b[0;34m]\u001b[0m\u001b[0;34m)\u001b[0m\u001b[0;34m\u001b[0m\u001b[0;34m\u001b[0m\u001b[0m\n\u001b[0m\u001b[1;32m      5\u001b[0m \u001b[0;31m#     for i in t:\u001b[0m\u001b[0;34m\u001b[0m\u001b[0;34m\u001b[0m\u001b[0;34m\u001b[0m\u001b[0m\n\u001b[1;32m      6\u001b[0m \u001b[0;31m#         for a in i.strip().split():\u001b[0m\u001b[0;34m\u001b[0m\u001b[0;34m\u001b[0m\u001b[0;34m\u001b[0m\u001b[0m\n",
      "\u001b[0;31mTypeError\u001b[0m: unsupported operand type(s) for +: 'int' and 'str'"
     ]
    }
   ],
   "source": [
    "#Моё:\n",
    "d={}\n",
    "with open(r'/home/yury/Desktop/test.txt') as t:\n",
    "    for i in t:\n",
    "        for a in i.strip().split():\n",
    "            if a in d:\n",
    "                d[a]+=1\n",
    "            else:\n",
    "                d.update({a:1})\n",
    "print(*sorted([a+' '+str(d[a]) for a in d if d[a]==max(d.values())]),sep='\\n')\n",
    "#Понравилось:\n",
    "with open('words.txt') as f:\n",
    "    text = f.read().lower().split()\n",
    "popular_word = max(set(text), key=text.count)\n",
    "print(popular_word, text.count(popular_word))"
   ]
  },
  {
   "cell_type": "code",
   "execution_count": 15,
   "metadata": {},
   "outputs": [
    {
     "name": "stdout",
     "output_type": "stream",
     "text": [
      "63.0\n",
      "64.33333333333333\n",
      "51.666666666666664\n",
      "79.33333333333333\n",
      "57.666666666666664\n",
      "82.0\n",
      "63.666666666666664\n",
      "78.33333333333333\n",
      "51.0\n",
      "73.33333333333333\n",
      "68.33333333333333\n",
      "79.33333333333333\n",
      "47.666666666666664\n",
      "58.666666666666664\n",
      "44.666666666666664\n",
      "71.0\n",
      "55.666666666666664\n",
      "59.0\n",
      "64.66666666666667\n",
      "82.66666666666667\n",
      "79.33333333333333\n",
      "66.33333333333333\n",
      "76.66666666666667\n",
      "65.0\n",
      "81.66666666666667\n",
      "58.333333333333336\n",
      "64.66666666666667\n",
      "59.0\n",
      "59.333333333333336\n",
      "51.0\n",
      "67.0\n",
      "52.666666666666664\n",
      "58.333333333333336\n",
      "72.33333333333333\n",
      "42.0\n",
      "58.666666666666664\n",
      "66.0\n",
      "48.666666666666664\n",
      "51.333333333333336\n",
      "63.0\n",
      "73.33333333333333\n",
      "43.0\n",
      "61.666666666666664\n",
      "45.333333333333336\n",
      "47.333333333333336\n",
      "57.333333333333336\n",
      "58.666666666666664\n",
      "87.66666666666667\n",
      "69.33333333333333\n",
      "46.333333333333336\n",
      "84.33333333333333\n",
      "65.66666666666667\n",
      "54.333333333333336\n",
      "69.0\n",
      "75.66666666666667\n",
      "48.333333333333336\n",
      "53.333333333333336\n",
      "62.666666666666664\n",
      "68.66666666666667\n",
      "57.666666666666664\n",
      "61.666666666666664\n",
      "59.0\n",
      "57.333333333333336\n",
      "60.0\n",
      "73.33333333333333\n",
      "75.0\n",
      "57.666666666666664\n",
      "69.0\n",
      "70.33333333333333\n",
      "56.666666666666664\n",
      "49.666666666666664\n",
      "61.333333333333336\n",
      "74.0\n",
      "65.0\n",
      "53.0\n",
      "43.666666666666664\n",
      "69.66666666666667\n",
      "71.33333333333333\n",
      "43.0\n",
      "69.0\n",
      "59.333333333333336\n",
      "86.0\n",
      "67.0\n",
      "54.666666666666664\n",
      "67.0\n",
      "69.33333333333333\n",
      "76.33333333333333\n",
      "48.333333333333336\n",
      "57.0\n",
      "58.0\n",
      "52.333333333333336\n",
      "80.0\n",
      "76.33333333333333\n",
      "54.666666666666664\n",
      "74.33333333333333\n",
      "55.666666666666664\n",
      "60.666666666666664\n",
      "59.0\n",
      "41.666666666666664\n",
      "53.333333333333336\n",
      "69.33333333333333\n",
      "60.0\n",
      "79.0\n",
      "70.0\n",
      "82.33333333333333\n",
      "66.66666666666667\n",
      "73.33333333333333\n",
      "76.0\n",
      "62.0\n",
      "57.0\n",
      "56.0\n",
      "57.0\n",
      "80.33333333333333\n",
      "48.333333333333336\n",
      "73.66666666666667\n",
      "55.666666666666664\n",
      "81.66666666666667\n",
      "36.666666666666664\n",
      "52.0\n",
      "86.66666666666667\n",
      "48.666666666666664\n",
      "74.0\n",
      "72.0\n",
      "59.333333333333336\n",
      "45.666666666666664\n",
      "78.66666666666667\n",
      "81.33333333333333\n",
      "69.66666666666667\n",
      "46.0\n",
      "49.666666666666664\n",
      "81.66666666666667\n",
      "74.0\n",
      "63.0\n",
      "71.33333333333333\n",
      "48.0\n",
      "46.666666666666664\n",
      "65.0\n",
      "42.666666666666664\n",
      "78.33333333333333\n",
      "81.33333333333333\n",
      "60.333333333333336\n",
      "61.333333333333336\n",
      "60.333333333333336\n",
      "63.11888111888112 64.8951048951049 61.64335664335665 "
     ]
    }
   ],
   "source": [
    "with open(r'/home/yury/Desktop/test.txt') as t:\n",
    "    d={k[0]:k[1:] for k in [i.strip().split(';') for i in t]}\n",
    "    for i in d:\n",
    "        print(sum(int(p) for p in d[i])/len(d[i]))\n",
    "    for v in range(3):\n",
    "        print(sum([int(i[v]) for i in d.values()])/len(d.values()),end=' ')"
   ]
  },
  {
   "cell_type": "code",
   "execution_count": 1,
   "metadata": {},
   "outputs": [],
   "source": []
  },
  {
   "cell_type": "code",
   "execution_count": null,
   "metadata": {},
   "outputs": [
    {
     "name": "stdout",
     "output_type": "stream",
     "text": [
      "3\n"
     ]
    }
   ],
   "source": [
    "games=int(input())\n",
    "dic={}\n",
    "def lost(dic,team):\n",
    "    dic.update({team:dic.get(team,{'won':0,'lost':0,'draw':0,'matches':0,'score':0})})\n",
    "    dic[team].update({'lost':dic[team].get('lost',0)+1})\n",
    "    dic[team].update({'matches':dic[team].get('matches',0)+1})\n",
    "    \n",
    "def won(dic,team):\n",
    "    dic.update({team:dic.get(team,{'won':0,'lost':0,'draw':0,'matches':0,'score':0})})\n",
    "    dic[team].update({'won':dic[team].get('won',0)+1})\n",
    "    dic[team].update({'matches':dic[team].get('matches',0)+1})\n",
    "    dic[team].update({'score':dic[team].get('score',0)+3})\n",
    "\n",
    "def draw(dic,team):\n",
    "    dic.update({team:dic.get(team,{'won':0,'lost':0,'draw':0,'matches':0,'score':0})})\n",
    "    dic[team].update({'draw':dic[team].get('draw',0)+1})\n",
    "    dic[team].update({'matches':dic[team].get('matches',0)+1})\n",
    "    dic[team].update({'score':dic[team].get('score',0)+1})\n",
    "    \n",
    "for i in  range(games):\n",
    "    team1,score1,team2,score2=input().split(';')\n",
    "    if score1>score2:\n",
    "        won(dic,team1)\n",
    "        lost(dic,team2)\n",
    "    elif score1<score2:\n",
    "        won(dic,team2)\n",
    "        lost(dic,team1)\n",
    "    else:\n",
    "        draw(dic,team2)\n",
    "        draw(dic,team1)\n",
    "        \n",
    "for i in dic:\n",
    "    print(i,end=':')\n",
    "    print(str(dic[i]['matches']),str(dic[i]['won']),str(dic[i]['draw']),str(dic[i]['lost']),str(dic[i]['score']))\n",
    "    "
   ]
  },
  {
   "cell_type": "code",
   "execution_count": 10,
   "metadata": {},
   "outputs": [
    {
     "name": "stdout",
     "output_type": "stream",
     "text": [
      "asdf\n",
      "vcxz\n",
      "asaaasddfdsa\n",
      "vcvcvcvcvcv\n",
      "vcvvvcxxzxcv\n",
      "asasasasasa"
     ]
    }
   ],
   "source": [
    "orig=input()\n",
    "code=input()\n",
    "decoded=input()\n",
    "encoded=input()\n",
    "for i in decoded:\n",
    "    print(code[orig.index(i)],end='')\n",
    "print()\n",
    "for i in encoded:\n",
    "    print(orig[code.index(i)],end='')\n"
   ]
  },
  {
   "cell_type": "code",
   "execution_count": 3,
   "metadata": {},
   "outputs": [
    {
     "ename": "TypeError",
     "evalue": "'str' object cannot be interpreted as an integer",
     "output_type": "error",
     "traceback": [
      "\u001b[0;31m---------------------------------------------------------------------------\u001b[0m",
      "\u001b[0;31mTypeError\u001b[0m                                 Traceback (most recent call last)",
      "\u001b[0;32m<ipython-input-3-39f817b61280>\u001b[0m in \u001b[0;36m<module>\u001b[0;34m\u001b[0m\n\u001b[0;32m----> 1\u001b[0;31m \u001b[0mi\u001b[0m\u001b[0;34m.\u001b[0m\u001b[0mpop\u001b[0m\u001b[0;34m(\u001b[0m\u001b[0;34m'a'\u001b[0m\u001b[0;34m)\u001b[0m\u001b[0;34m\u001b[0m\u001b[0;34m\u001b[0m\u001b[0m\n\u001b[0m",
      "\u001b[0;31mTypeError\u001b[0m: 'str' object cannot be interpreted as an integer"
     ]
    }
   ],
   "source": []
  },
  {
   "cell_type": "code",
   "execution_count": 21,
   "metadata": {},
   "outputs": [
    {
     "name": "stdout",
     "output_type": "stream",
     "text": [
      "2\n",
      "as\n",
      "sa\n",
      "2\n",
      "as ds\n",
      "sd sa\n",
      "ds/nsd\n"
     ]
    }
   ],
   "source": [
    "#Моё:\n",
    "etl={input().lower() for i in range(int(input()))}\n",
    "chk={input() for i in range(int(input()))}\n",
    "wrd=set()\n",
    "for i in chk:\n",
    "    for k in i.split():\n",
    "        if k.lower() not in etl:wrd.add(k.lower())\n",
    "print(*wrd, sep='\\n')\n",
    "#Понравилось:\n",
    "dic = {input().lower() for i in range(int(input()))}\n",
    "\n",
    "wrd = set()\n",
    "for w in range(int(input())):\n",
    "    wrd |= {i.lower() for i in input().split()}\n",
    "\n",
    "print(*wrd.difference(dic), sep=\"\\n\")"
   ]
  },
  {
   "cell_type": "code",
   "execution_count": 25,
   "metadata": {},
   "outputs": [
    {
     "name": "stdout",
     "output_type": "stream",
     "text": [
      "2\n",
      "юг 2\n",
      "север 2\n",
      "0 0\n"
     ]
    }
   ],
   "source": [
    "#Моё:\n",
    "start=[0,0]\n",
    "for i in range(int(input())):\n",
    "    dest,dist=input().split()\n",
    "    dist=int(dist)\n",
    "    if dest=='север':\n",
    "        start[1]+=dist\n",
    "    elif dest=='юг':\n",
    "        start[1]-=dist\n",
    "    elif dest=='восток':\n",
    "        start[0]+=dist\n",
    "    elif dest=='запад':\n",
    "        start[0]-=dist\n",
    "print(*start)\n",
    "#Понравилось:\n",
    "n=int(input())\n",
    "d={'север':0,'запад':0,'юг':0,'восток':0}\n",
    "for i in range(n):\n",
    "    x=input().split()\n",
    "    d[x[0]]+=int(x[1])\n",
    "print(d['восток']-d['запад'], d['север']-d['юг'])\n"
   ]
  },
  {
   "cell_type": "markdown",
   "metadata": {},
   "source": [
    "Классы перечисляем сразу все.\n",
    "\n",
    "У меня ввод фамилий идёт построчно, надо сначала накопить количество учеников в классе и их рост.\n",
    "Словарь подходит, а фамилии мне вообще не нужны"
   ]
  },
  {
   "cell_type": "code",
   "execution_count": 40,
   "metadata": {},
   "outputs": [
    {
     "name": "stdout",
     "output_type": "stream",
     "text": [
      "1 123.33333333333333\n",
      "2 130.0\n",
      "3 134.33333333333334\n",
      "4 138.2\n",
      "5 146.66666666666666\n",
      "6 154.66666666666666\n",
      "7 161.2\n",
      "8 165.5\n",
      "9 167.83333333333334\n",
      "10 169.75\n",
      "11 174.0\n"
     ]
    }
   ],
   "source": [
    "d={i:[] for i in range(1,12)}\n",
    "with open(r'/home/yury/Desktop/test.txt') as t:\n",
    "    for i in t:\n",
    "        grad,hig=i.split('\\t')[0],i.split('\\t')[2]\n",
    "        d[int(grad)].append(int(hig))\n",
    "for i in d:\n",
    "    if d[i]!=[]:\n",
    "        print(i,str(sum(d[i])/len(d[i])))\n",
    "    else:\n",
    "        print(i,'-')"
   ]
  },
  {
   "cell_type": "code",
   "execution_count": 36,
   "metadata": {},
   "outputs": [],
   "source": [
    "a=[]"
   ]
  },
  {
   "cell_type": "code",
   "execution_count": 38,
   "metadata": {},
   "outputs": [
    {
     "data": {
      "text/plain": [
       "[]"
      ]
     },
     "execution_count": 38,
     "metadata": {},
     "output_type": "execute_result"
    }
   ],
   "source": [
    "a"
   ]
  },
  {
   "cell_type": "code",
   "execution_count": null,
   "metadata": {},
   "outputs": [],
   "source": []
  }
 ],
 "metadata": {
  "kernelspec": {
   "display_name": "Python 3",
   "language": "python",
   "name": "python3"
  },
  "language_info": {
   "codemirror_mode": {
    "name": "ipython",
    "version": 3
   },
   "file_extension": ".py",
   "mimetype": "text/x-python",
   "name": "python",
   "nbconvert_exporter": "python",
   "pygments_lexer": "ipython3",
   "version": "3.7.4"
  }
 },
 "nbformat": 4,
 "nbformat_minor": 2
}
