{
 "cells": [
  {
   "cell_type": "code",
   "execution_count": null,
   "metadata": {},
   "outputs": [],
   "source": [
    "fib = lambda x : 1 if x <= 2 else fib(x - 1) + fib(x - 2)\n",
    "fib(31)"
   ]
  },
  {
   "cell_type": "code",
   "execution_count": null,
   "metadata": {},
   "outputs": [],
   "source": [
    "summ=0\n",
    "for i in range(int(input())):\n",
    "    summ+=int(input())\n",
    "print(summ)"
   ]
  },
  {
   "cell_type": "code",
   "execution_count": null,
   "metadata": {},
   "outputs": [],
   "source": [
    "x=[1,2,3]\n",
    "print(id(x))\n",
    "print(id([1,2,3]))"
   ]
  },
  {
   "cell_type": "code",
   "execution_count": null,
   "metadata": {},
   "outputs": [],
   "source": [
    "x=5\n",
    "print(id(5))\n",
    "print(id(x))"
   ]
  },
  {
   "cell_type": "code",
   "execution_count": null,
   "metadata": {},
   "outputs": [],
   "source": [
    "print(len(set([id(i) for i in objects])))"
   ]
  },
  {
   "cell_type": "code",
   "execution_count": null,
   "metadata": {},
   "outputs": [],
   "source": [
    "n,k = map(int,input.split())"
   ]
  },
  {
   "cell_type": "code",
   "execution_count": null,
   "metadata": {},
   "outputs": [],
   "source": [
    "n,k=map(int,input().split())\n",
    "def comber (n,k):\n",
    "    if n<k:\n",
    "        return 0\n",
    "    elif k==0:\n",
    "        return 1\n",
    "    else:\n",
    "        return(comber(n-1,k)+comber(n-1,k-1))\n",
    "print(comber(n,k))"
   ]
  },
  {
   "cell_type": "code",
   "execution_count": null,
   "metadata": {},
   "outputs": [],
   "source": [
    "from math import factorial as fact\n",
    "\n",
    "def comber2 (n,k):\n",
    "    return int(fact(n)/(fact(n-k)*fact(k)))"
   ]
  },
  {
   "cell_type": "code",
   "execution_count": null,
   "metadata": {},
   "outputs": [],
   "source": [
    "%time comber2(25,3)"
   ]
  },
  {
   "cell_type": "code",
   "execution_count": null,
   "metadata": {},
   "outputs": [],
   "source": [
    "%time comber(25,3)"
   ]
  },
  {
   "cell_type": "code",
   "execution_count": null,
   "metadata": {},
   "outputs": [],
   "source": [
    "#Моё:\n",
    "dic={}\n",
    "\n",
    "def create_namespace(namespace,parent):\n",
    "    global dic\n",
    "    dic.setdefault(namespace,{'parent':parent,'vars':[]})\n",
    "\n",
    "def add_var(namespace,var):\n",
    "    global dic\n",
    "    dic.setdefault(namespace,{'parent':'','vars':[]})\n",
    "    dic[namespace]['vars'].append(var)\n",
    "    \n",
    "def get_var(namespace,var):\n",
    "    global dic\n",
    "    if not dic.get(namespace):\n",
    "        print('None')\n",
    "    elif var in dic[namespace]['vars']:\n",
    "        print(namespace)\n",
    "    else:\n",
    "        get_var(dic[namespace]['parent'],var)\n",
    "\n",
    "for i in range(int(input())):\n",
    "    comm,namespace,var=input().split()\n",
    "    if comm=='create':\n",
    "        create_namespace(namespace,var)\n",
    "    elif comm=='add':\n",
    "        add_var(namespace,var)\n",
    "    elif comm=='get':\n",
    "        get_var(namespace,var)\n",
    "    else:\n",
    "        print('command is not defined')\n",
    "#Понравилось:\n",
    "n = int(input())\n",
    "\n",
    "parent = {\"global\": None}\n",
    "vs = {\"global\": set()}\n",
    "\n",
    "for _ in range(n):\n",
    "    t, fst, snd = input().split()\n",
    "    if t == \"create\":\n",
    "        parent[fst] = snd\n",
    "        vs[fst] = set()\n",
    "    elif t == \"add\":\n",
    "        vs[fst].add(snd)\n",
    "    else:  # t == get\n",
    "        while fst is not None:\n",
    "            if snd in vs[fst]:\n",
    "                break\n",
    "            fst = parent[fst]\n",
    "        print(fst)"
   ]
  },
  {
   "cell_type": "code",
   "execution_count": 11,
   "metadata": {},
   "outputs": [],
   "source": [
    "class MoneyBox:\n",
    "    def __init__(self, capacity):\n",
    "        self.capacity=capacity\n",
    "        self.qty=0\n",
    "        # конструктор с аргументом – вместимость копилки\n",
    "    def can_add(self, v):\n",
    "        return self.capacity-self.qty-v>=0\n",
    "        # True, если можно добавить v монет, False иначе\n",
    "    \n",
    "    def add(self, v):\n",
    "        self.qty+=v\n",
    "        # положить v монет в копилку"
   ]
  },
  {
   "cell_type": "code",
   "execution_count": 47,
   "metadata": {},
   "outputs": [],
   "source": [
    "class Buffer:\n",
    "    def __init__(self):\n",
    "        self.nums=[]\n",
    "        # конструктор без аргументов\n",
    "\n",
    "    def add(self, *a):\n",
    "        self.nums+=a\n",
    "        while len(self.nums)>=5:\n",
    "            print(sum(self.nums[:5]))\n",
    "            self.nums=self.nums[5:]\n",
    "        # добавить следующую часть последовательности\n",
    "\n",
    "    def get_current_part(self):\n",
    "        return self.nums\n",
    "        # вернуть сохраненные в текущий момент элементы последовательности в порядке, в котором они были добавлены"
   ]
  },
  {
   "cell_type": "code",
   "execution_count": 4,
   "metadata": {},
   "outputs": [
    {
     "name": "stdout",
     "output_type": "stream",
     "text": [
      "2\n",
      "3\n",
      "3\n"
     ]
    }
   ],
   "source": [
    "class A:\n",
    "    val = 1\n",
    "\n",
    "    def foo(self):\n",
    "        A.val += 2\n",
    "\n",
    "    def bar(self):\n",
    "        self.val += 1\n",
    "\n",
    "\n",
    "a = A()\n",
    "b = A()\n",
    "\n",
    "a.bar()\n",
    "a.foo()\n",
    "\n",
    "c = A()\n",
    "\n",
    "print(a.val)\n",
    "print(b.val)\n",
    "print(c.val)"
   ]
  },
  {
   "cell_type": "code",
   "execution_count": 1,
   "metadata": {},
   "outputs": [
    {
     "name": "stdout",
     "output_type": "stream",
     "text": [
      "2\n",
      "classA : classB classC classD classG classH\n",
      "classB : classC classE classG classH classK classL\n",
      "1\n",
      "classK classD\n"
     ]
    },
    {
     "ename": "KeyError",
     "evalue": "'classD'",
     "output_type": "error",
     "traceback": [
      "\u001b[1;31m---------------------------------------------------------------------------\u001b[0m",
      "\u001b[1;31mKeyError\u001b[0m                                  Traceback (most recent call last)",
      "\u001b[1;32m<ipython-input-1-afba5e197ca1>\u001b[0m in \u001b[0;36m<module>\u001b[1;34m\u001b[0m\n\u001b[0;32m     30\u001b[0m \u001b[1;33m\u001b[0m\u001b[0m\n\u001b[0;32m     31\u001b[0m \u001b[0mvoc\u001b[0m\u001b[1;33m=\u001b[0m\u001b[0mwriter\u001b[0m\u001b[1;33m(\u001b[0m\u001b[0mint\u001b[0m\u001b[1;33m(\u001b[0m\u001b[0minput\u001b[0m\u001b[1;33m(\u001b[0m\u001b[1;33m)\u001b[0m\u001b[1;33m)\u001b[0m\u001b[1;33m)\u001b[0m\u001b[1;33m\u001b[0m\u001b[1;33m\u001b[0m\u001b[0m\n\u001b[1;32m---> 32\u001b[1;33m \u001b[0mreader\u001b[0m\u001b[1;33m(\u001b[0m\u001b[0mint\u001b[0m\u001b[1;33m(\u001b[0m\u001b[0minput\u001b[0m\u001b[1;33m(\u001b[0m\u001b[1;33m)\u001b[0m\u001b[1;33m)\u001b[0m\u001b[1;33m,\u001b[0m\u001b[0mvoc\u001b[0m\u001b[1;33m)\u001b[0m\u001b[1;33m\u001b[0m\u001b[1;33m\u001b[0m\u001b[0m\n\u001b[0m",
      "\u001b[1;32m<ipython-input-1-afba5e197ca1>\u001b[0m in \u001b[0;36mreader\u001b[1;34m(q, voc)\u001b[0m\n\u001b[0;32m     26\u001b[0m     \u001b[1;32mwhile\u001b[0m \u001b[0mq\u001b[0m\u001b[1;33m>\u001b[0m\u001b[0mcnt\u001b[0m\u001b[1;33m:\u001b[0m\u001b[1;33m\u001b[0m\u001b[1;33m\u001b[0m\u001b[0m\n\u001b[0;32m     27\u001b[0m         \u001b[0mb\u001b[0m\u001b[1;33m,\u001b[0m\u001b[0ma\u001b[0m\u001b[1;33m=\u001b[0m\u001b[0minput\u001b[0m\u001b[1;33m(\u001b[0m\u001b[1;33m)\u001b[0m\u001b[1;33m.\u001b[0m\u001b[0msplit\u001b[0m\u001b[1;33m(\u001b[0m\u001b[1;33m)\u001b[0m\u001b[1;33m\u001b[0m\u001b[1;33m\u001b[0m\u001b[0m\n\u001b[1;32m---> 28\u001b[1;33m         \u001b[0mfinder\u001b[0m\u001b[1;33m(\u001b[0m\u001b[0ma\u001b[0m\u001b[1;33m,\u001b[0m\u001b[0mb\u001b[0m\u001b[1;33m,\u001b[0m\u001b[0mvoc\u001b[0m\u001b[1;33m)\u001b[0m\u001b[1;33m\u001b[0m\u001b[1;33m\u001b[0m\u001b[0m\n\u001b[0m\u001b[0;32m     29\u001b[0m         \u001b[0mcnt\u001b[0m\u001b[1;33m+=\u001b[0m\u001b[1;36m1\u001b[0m\u001b[1;33m\u001b[0m\u001b[1;33m\u001b[0m\u001b[0m\n\u001b[0;32m     30\u001b[0m \u001b[1;33m\u001b[0m\u001b[0m\n",
      "\u001b[1;32m<ipython-input-1-afba5e197ca1>\u001b[0m in \u001b[0;36mfinder\u001b[1;34m(a, b, voc)\u001b[0m\n\u001b[0;32m      2\u001b[0m     \u001b[1;32mif\u001b[0m \u001b[0mb\u001b[0m\u001b[1;33m==\u001b[0m\u001b[0ma\u001b[0m\u001b[1;33m:\u001b[0m\u001b[1;33m\u001b[0m\u001b[1;33m\u001b[0m\u001b[0m\n\u001b[0;32m      3\u001b[0m         \u001b[0mprint\u001b[0m\u001b[1;33m(\u001b[0m\u001b[1;34m'Yes'\u001b[0m\u001b[1;33m)\u001b[0m\u001b[1;33m\u001b[0m\u001b[1;33m\u001b[0m\u001b[0m\n\u001b[1;32m----> 4\u001b[1;33m     \u001b[1;32melif\u001b[0m \u001b[0mb\u001b[0m \u001b[1;32min\u001b[0m \u001b[0mvoc\u001b[0m\u001b[1;33m[\u001b[0m\u001b[0ma\u001b[0m\u001b[1;33m]\u001b[0m\u001b[1;33m:\u001b[0m\u001b[1;33m\u001b[0m\u001b[1;33m\u001b[0m\u001b[0m\n\u001b[0m\u001b[0;32m      5\u001b[0m         \u001b[0mprint\u001b[0m\u001b[1;33m(\u001b[0m\u001b[1;34m'Yes'\u001b[0m\u001b[1;33m)\u001b[0m\u001b[1;33m\u001b[0m\u001b[1;33m\u001b[0m\u001b[0m\n\u001b[0;32m      6\u001b[0m     \u001b[1;32melif\u001b[0m \u001b[0mlen\u001b[0m\u001b[1;33m(\u001b[0m\u001b[0mvoc\u001b[0m\u001b[1;33m[\u001b[0m\u001b[0ma\u001b[0m\u001b[1;33m]\u001b[0m\u001b[1;33m)\u001b[0m\u001b[1;33m==\u001b[0m\u001b[1;36m0\u001b[0m\u001b[1;33m:\u001b[0m\u001b[1;33m\u001b[0m\u001b[1;33m\u001b[0m\u001b[0m\n",
      "\u001b[1;31mKeyError\u001b[0m: 'classD'"
     ]
    }
   ],
   "source": [
    "import sys\n",
    "sys.stdin = open(\"input.txt\", \"r\")\n",
    "\n",
    "def finder(a,b,voc):\n",
    "    if b==a:\n",
    "        print('Yes')\n",
    "    elif b in voc[a]:\n",
    "        print('Yes')\n",
    "    elif len(voc[a])==0:\n",
    "        print('No')\n",
    "    else:\n",
    "        for i in voc[a]:\n",
    "            finder(i,b,voc)\n",
    "\n",
    "def writer(n):\n",
    "    cnt=0\n",
    "    voc={}\n",
    "    while n>cnt:\n",
    "        todic=input().split()\n",
    "        try:\n",
    "            voc[todic[0]]=todic[2:]\n",
    "        except IndexError:\n",
    "            voc[todic[0]]=[]\n",
    "        cnt+=1\n",
    "    return voc\n",
    "            \n",
    "def reader(q, voc):\n",
    "    cnt=0\n",
    "    while q>cnt:\n",
    "        b,a=input().split()\n",
    "        finder(a,b,voc)\n",
    "        cnt+=1\n",
    "\n",
    "voc=writer(int(input()))\n",
    "reader(int(input()),voc)"
   ]
  },
  {
   "cell_type": "code",
   "execution_count": null,
   "metadata": {},
   "outputs": [],
   "source": [
    "voc"
   ]
  }
 ],
 "metadata": {
  "kernelspec": {
   "display_name": "Python 3",
   "language": "python",
   "name": "python3"
  },
  "language_info": {
   "codemirror_mode": {
    "name": "ipython",
    "version": 3
   },
   "file_extension": ".py",
   "mimetype": "text/x-python",
   "name": "python",
   "nbconvert_exporter": "python",
   "pygments_lexer": "ipython3",
   "version": "3.7.3"
  }
 },
 "nbformat": 4,
 "nbformat_minor": 2
}
