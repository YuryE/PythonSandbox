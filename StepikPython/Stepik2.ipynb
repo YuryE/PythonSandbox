{
 "cells": [
  {
   "cell_type": "code",
   "execution_count": null,
   "metadata": {},
   "outputs": [],
   "source": [
    "fib = lambda x : 1 if x <= 2 else fib(x - 1) + fib(x - 2)\n",
    "fib(31)"
   ]
  },
  {
   "cell_type": "code",
   "execution_count": null,
   "metadata": {},
   "outputs": [],
   "source": [
    "summ=0\n",
    "for i in range(int(input())):\n",
    "    summ+=int(input())\n",
    "print(summ)"
   ]
  },
  {
   "cell_type": "code",
   "execution_count": null,
   "metadata": {},
   "outputs": [],
   "source": [
    "x=[1,2,3]\n",
    "print(id(x))\n",
    "print(id([1,2,3]))"
   ]
  },
  {
   "cell_type": "code",
   "execution_count": null,
   "metadata": {},
   "outputs": [],
   "source": [
    "x=5\n",
    "print(id(5))\n",
    "print(id(x))"
   ]
  },
  {
   "cell_type": "code",
   "execution_count": null,
   "metadata": {},
   "outputs": [],
   "source": [
    "print(len(set([id(i) for i in objects])))"
   ]
  },
  {
   "cell_type": "code",
   "execution_count": null,
   "metadata": {},
   "outputs": [],
   "source": [
    "n,k = map(int,input.split())"
   ]
  },
  {
   "cell_type": "code",
   "execution_count": null,
   "metadata": {},
   "outputs": [],
   "source": [
    "n,k=map(int,input().split())\n",
    "def comber (n,k):\n",
    "    if n<k:\n",
    "        return 0\n",
    "    elif k==0:\n",
    "        return 1\n",
    "    else:\n",
    "        return(comber(n-1,k)+comber(n-1,k-1))\n",
    "print(comber(n,k))"
   ]
  },
  {
   "cell_type": "code",
   "execution_count": null,
   "metadata": {},
   "outputs": [],
   "source": [
    "from math import factorial as fact\n",
    "\n",
    "def comber2 (n,k):\n",
    "    return int(fact(n)/(fact(n-k)*fact(k)))"
   ]
  },
  {
   "cell_type": "code",
   "execution_count": null,
   "metadata": {},
   "outputs": [],
   "source": [
    "%time comber2(25,3)"
   ]
  },
  {
   "cell_type": "code",
   "execution_count": null,
   "metadata": {},
   "outputs": [],
   "source": [
    "%time comber(25,3)"
   ]
  },
  {
   "cell_type": "code",
   "execution_count": null,
   "metadata": {},
   "outputs": [],
   "source": [
    "#Моё:\n",
    "dic={}\n",
    "\n",
    "def create_namespace(namespace,parent):\n",
    "    global dic\n",
    "    dic.setdefault(namespace,{'parent':parent,'vars':[]})\n",
    "\n",
    "def add_var(namespace,var):\n",
    "    global dic\n",
    "    dic.setdefault(namespace,{'parent':'','vars':[]})\n",
    "    dic[namespace]['vars'].append(var)\n",
    "    \n",
    "def get_var(namespace,var):\n",
    "    global dic\n",
    "    if not dic.get(namespace):\n",
    "        print('None')\n",
    "    elif var in dic[namespace]['vars']:\n",
    "        print(namespace)\n",
    "    else:\n",
    "        get_var(dic[namespace]['parent'],var)\n",
    "\n",
    "for i in range(int(input())):\n",
    "    comm,namespace,var=input().split()\n",
    "    if comm=='create':\n",
    "        create_namespace(namespace,var)\n",
    "    elif comm=='add':\n",
    "        add_var(namespace,var)\n",
    "    elif comm=='get':\n",
    "        get_var(namespace,var)\n",
    "    else:\n",
    "        print('command is not defined')\n",
    "#Понравилось:\n",
    "n = int(input())\n",
    "\n",
    "parent = {\"global\": None}\n",
    "vs = {\"global\": set()}\n",
    "\n",
    "for _ in range(n):\n",
    "    t, fst, snd = input().split()\n",
    "    if t == \"create\":\n",
    "        parent[fst] = snd\n",
    "        vs[fst] = set()\n",
    "    elif t == \"add\":\n",
    "        vs[fst].add(snd)\n",
    "    else:  # t == get\n",
    "        while fst is not None:\n",
    "            if snd in vs[fst]:\n",
    "                break\n",
    "            fst = parent[fst]\n",
    "        print(fst)"
   ]
  },
  {
   "cell_type": "code",
   "execution_count": 11,
   "metadata": {},
   "outputs": [],
   "source": [
    "class MoneyBox:\n",
    "    def __init__(self, capacity):\n",
    "        self.capacity=capacity\n",
    "        self.qty=0\n",
    "        # конструктор с аргументом – вместимость копилки\n",
    "    def can_add(self, v):\n",
    "        return self.capacity-self.qty-v>=0\n",
    "        # True, если можно добавить v монет, False иначе\n",
    "    \n",
    "    def add(self, v):\n",
    "        self.qty+=v\n",
    "        # положить v монет в копилку"
   ]
  },
  {
   "cell_type": "code",
   "execution_count": 47,
   "metadata": {},
   "outputs": [],
   "source": [
    "class Buffer:\n",
    "    def __init__(self):\n",
    "        self.nums=[]\n",
    "        # конструктор без аргументов\n",
    "\n",
    "    def add(self, *a):\n",
    "        self.nums+=a\n",
    "        while len(self.nums)>=5:\n",
    "            print(sum(self.nums[:5]))\n",
    "            self.nums=self.nums[5:]\n",
    "        # добавить следующую часть последовательности\n",
    "\n",
    "    def get_current_part(self):\n",
    "        return self.nums\n",
    "        # вернуть сохраненные в текущий момент элементы последовательности в порядке, в котором они были добавлены"
   ]
  },
  {
   "cell_type": "code",
   "execution_count": 4,
   "metadata": {},
   "outputs": [
    {
     "name": "stdout",
     "output_type": "stream",
     "text": [
      "2\n",
      "3\n",
      "3\n"
     ]
    }
   ],
   "source": [
    "class A:\n",
    "    val = 1\n",
    "\n",
    "    def foo(self):\n",
    "        A.val += 2\n",
    "\n",
    "    def bar(self):\n",
    "        self.val += 1\n",
    "\n",
    "\n",
    "a = A()\n",
    "b = A()\n",
    "\n",
    "a.bar()\n",
    "a.foo()\n",
    "\n",
    "c = A()\n",
    "\n",
    "print(a.val)\n",
    "print(b.val)\n",
    "print(c.val)"
   ]
  },
  {
   "cell_type": "code",
   "execution_count": 76,
   "metadata": {},
   "outputs": [],
   "source": [
    "def finder(a,b,voc):\n",
    "    try:\n",
    "        if b==a and a in voc:\n",
    "            return 'Yes'\n",
    "        elif b in voc[a]:\n",
    "            return 'Yes'\n",
    "        else:\n",
    "            for i in voc[a]:\n",
    "                if finder(i,b,voc)=='Yes':\n",
    "                    return 'Yes'\n",
    "    except KeyError:\n",
    "        return None\n",
    "\n",
    "def writer(n):\n",
    "    cnt=0\n",
    "    voc={}\n",
    "    '''\n",
    "    >>> voc=writer(int(input()))\n",
    "    >>> 4\n",
    "    >>> A : B\n",
    "    >>> B : C\n",
    "    >>> C : D\n",
    "    >>> E : D\n",
    "    >>> print(voc)\n",
    "    1\n",
    "    '''\n",
    "    while n>cnt:\n",
    "        todic=input().split()\n",
    "        try:\n",
    "            voc[todic[0]]=todic[2:]\n",
    "        except IndexError:\n",
    "            voc[todic[0]]=[]\n",
    "        cnt+=1\n",
    "    return voc\n",
    "            \n",
    "def reader(q, voc):\n",
    "    cnt=0\n",
    "    while q>cnt:\n",
    "        b,a=input().split()\n",
    "        print(finder(a,b,voc) or 'No')\n",
    "        cnt+=1"
   ]
  },
  {
   "cell_type": "code",
   "execution_count": null,
   "metadata": {},
   "outputs": [],
   "source": [
    "voc=writer(int(input()))\n",
    "reader(int(input()),voc)"
   ]
  },
  {
   "cell_type": "code",
   "execution_count": 22,
   "metadata": {},
   "outputs": [
    {
     "name": "stdout",
     "output_type": "stream",
     "text": [
      "[1, 2, 3, 4, -3, 3, 5, 10]\n",
      "[1, 2, 3, 4, -3, 3, 2]\n",
      "[1, 2, 3, 4, 6]\n",
      "[1, 2, 7]\n",
      "[2]\n"
     ]
    }
   ],
   "source": [
    "class ExtendedStack(list):\n",
    "    def sum(self):\n",
    "        top1=self.pop()\n",
    "        top2=self.pop()\n",
    "        self.append(top1+top2)\n",
    "        # операция сложения\n",
    "\n",
    "    def sub(self):\n",
    "        top1=self.pop()\n",
    "        top2=self.pop()\n",
    "        self.append(top1-top2)\n",
    "        # операция вычитания\n",
    "\n",
    "    def mul(self):\n",
    "        top1=self.pop()\n",
    "        top2=self.pop()\n",
    "        self.append(top1*top2)\n",
    "        # операция умножения\n",
    "\n",
    "    def div(self):\n",
    "        top1=self.pop()\n",
    "        top2=self.pop()\n",
    "        self.append(top1//top2)\n",
    "        # операция целочисленного деления\n",
    "\n",
    "def test():\n",
    "    ex_stack = ExtendedStack([1, 2, 3, 4, -3, 3, 5, 10])\n",
    "    print(ex_stack)    \n",
    "    ex_stack.div()\n",
    "    print(ex_stack)\n",
    "    assert ex_stack.pop() == 2\n",
    "    ex_stack.sub()\n",
    "    print(ex_stack)\n",
    "    assert ex_stack.pop() == 6\n",
    "    ex_stack.sum()\n",
    "    print(ex_stack)\n",
    "    assert ex_stack.pop() == 7\n",
    "    ex_stack.mul()\n",
    "    print(ex_stack)\n",
    "    assert ex_stack.pop() == 2\n",
    "    assert len(ex_stack) == 0\n",
    "    \n",
    "test()"
   ]
  },
  {
   "cell_type": "code",
   "execution_count": 34,
   "metadata": {},
   "outputs": [],
   "source": [
    "import time\n",
    "\n",
    "class Loggable:\n",
    "    def log(self, msg):\n",
    "        print(str(time.ctime()) + \": \" + str(msg))\n",
    "        \n",
    "class LoggableList(list,Loggable):\n",
    "    def append(self,n):\n",
    "        super().append(n)\n",
    "        super().log(n)"
   ]
  },
  {
   "cell_type": "code",
   "execution_count": 35,
   "metadata": {},
   "outputs": [
    {
     "name": "stdout",
     "output_type": "stream",
     "text": [
      "Sat Mar 14 00:21:45 2020: 1\n"
     ]
    }
   ],
   "source": [
    "x=LoggableList([2])\n",
    "x.append(1)"
   ]
  },
  {
   "cell_type": "code",
   "execution_count": 3,
   "metadata": {},
   "outputs": [],
   "source": [
    "def foo():\n",
    "    #1/0\n",
    "    i=1\n",
    "    f = 3.0**i\n",
    "    for i in range(100):\n",
    "        print (i, f)\n",
    "        f = f ** 2\n",
    "    #assert 1 == 2, \"But why?\"  # AssertionError: But why?"
   ]
  },
  {
   "cell_type": "code",
   "execution_count": 4,
   "metadata": {},
   "outputs": [
    {
     "name": "stdout",
     "output_type": "stream",
     "text": [
      "0 3.0\n",
      "1 9.0\n",
      "2 81.0\n",
      "3 6561.0\n",
      "4 43046721.0\n",
      "5 1853020188851841.0\n",
      "6 3.4336838202925124e+30\n",
      "7 1.1790184577738583e+61\n",
      "8 1.3900845237714473e+122\n",
      "9 1.9323349832288915e+244\n",
      "ArithmeticError\n"
     ]
    }
   ],
   "source": [
    "try:\n",
    "    foo()\n",
    "except ZeroDivisionError:\n",
    "    print(\"ZeroDivisionError\")\n",
    "except AssertionError:\n",
    "    print(\"AssertionError\")\n",
    "except ArithmeticError:\n",
    "    print(\"ArithmeticError\")\n"
   ]
  },
  {
   "cell_type": "code",
   "execution_count": 1,
   "metadata": {},
   "outputs": [
    {
     "name": "stdout",
     "output_type": "stream",
     "text": [
      "4\n",
      "A : B\n",
      "B : C\n",
      "C : D E\n",
      "E\n"
     ]
    }
   ],
   "source": [
    "n = int(input())\n",
    "\n",
    "parents = {}\n",
    "for _ in range(n):\n",
    "    a = input().split()\n",
    "    parents[a[0]] = [] if len(a) == 1 else a[2:]"
   ]
  },
  {
   "cell_type": "code",
   "execution_count": 2,
   "metadata": {},
   "outputs": [],
   "source": [
    "def is_excessive(child):\n",
    "    return any(map(lambda p: p in prev_exceptions, parents[child]))"
   ]
  },
  {
   "cell_type": "code",
   "execution_count": 8,
   "metadata": {},
   "outputs": [
    {
     "name": "stdout",
     "output_type": "stream",
     "text": [
      "5\n",
      "E\n",
      "A\n",
      "C\n",
      "C\n",
      "B\n",
      "B\n",
      "A\n",
      "A\n"
     ]
    }
   ],
   "source": [
    "q = int(input())\n",
    "prev_exceptions=[]\n",
    "for _ in range(q):\n",
    "    a = input()\n",
    "    prev_exceptions.append(a)\n",
    "    print(prev_exceptions[-1]) if is_excessive(a) else None"
   ]
  },
  {
   "cell_type": "code",
   "execution_count": 78,
   "metadata": {},
   "outputs": [
    {
     "name": "stdout",
     "output_type": "stream",
     "text": [
      "Trying:\n",
      "    add(2, 2)\n",
      "Expecting:\n",
      "    4\n",
      "ok\n",
      "8 items had no tests:\n",
      "    __main__\n",
      "    __main__.B\n",
      "    __main__.C\n",
      "    __main__.D\n",
      "    __main__.finder\n",
      "    __main__.is_parent\n",
      "    __main__.reader\n",
      "    __main__.writer\n",
      "1 items passed all tests:\n",
      "   1 tests in __main__.add\n",
      "1 tests in 9 items.\n",
      "1 passed and 0 failed.\n",
      "Test passed.\n"
     ]
    },
    {
     "data": {
      "text/plain": [
       "TestResults(failed=0, attempted=1)"
      ]
     },
     "execution_count": 78,
     "metadata": {},
     "output_type": "execute_result"
    }
   ],
   "source": [
    "import doctest\n",
    "doctest.testmod(verbose=True)"
   ]
  },
  {
   "cell_type": "code",
   "execution_count": 17,
   "metadata": {},
   "outputs": [
    {
     "name": "stdout",
     "output_type": "stream",
     "text": [
      "4\n",
      "A : B\n",
      "B : C\n",
      "C : D\n",
      "D\n",
      "4\n",
      "C\n",
      "D\n",
      "B\n",
      "B\n",
      "A\n",
      "A\n"
     ]
    }
   ],
   "source": [
    "def finder(a,b,voc):\n",
    "    try:\n",
    "        if b in voc[a]:\n",
    "            return 'Yes'\n",
    "        else:\n",
    "            for i in voc[a]:\n",
    "                if finder(i,b,voc)=='Yes':\n",
    "                    return 'Yes'\n",
    "    except KeyError:\n",
    "        return None\n",
    "\n",
    "def writer(n):\n",
    "    cnt=0\n",
    "    voc={}\n",
    "    while n>cnt:\n",
    "        todic=input().split()\n",
    "        try:\n",
    "            voc[todic[0]]=todic[2:]\n",
    "        except IndexError:\n",
    "            voc[todic[0]]=[]\n",
    "        cnt+=1\n",
    "    return voc\n",
    "            \n",
    "def reader(q, voc):\n",
    "    cnt=0\n",
    "    excessive=[]\n",
    "    while q>cnt:\n",
    "        a=input()\n",
    "        for i in excessive:\n",
    "            if finder(a,i,voc)=='Yes':\n",
    "                print(a)\n",
    "                break\n",
    "        excessive.append(a)\n",
    "        cnt+=1\n",
    "\n",
    "voc=writer(int(input()))\n",
    "reader(int(input()),voc)"
   ]
  },
  {
   "cell_type": "code",
   "execution_count": 42,
   "metadata": {},
   "outputs": [],
   "source": [
    "class PositiveList(list):\n",
    "    def append(self,n):\n",
    "        if n>0:\n",
    "            super().append(n)\n",
    "        else:\n",
    "            raise NonPositiveError\n",
    "            \n",
    "class NonPositiveError(Exception):\n",
    "    pass"
   ]
  },
  {
   "cell_type": "code",
   "execution_count": 64,
   "metadata": {},
   "outputs": [],
   "source": [
    "import datetime as dt"
   ]
  },
  {
   "cell_type": "code",
   "execution_count": 77,
   "metadata": {},
   "outputs": [
    {
     "name": "stdout",
     "output_type": "stream",
     "text": [
      "2016 07 12\n",
      "12\n",
      "2016 7 24\n"
     ]
    }
   ],
   "source": [
    "x=dt.date(*[int(i) for i in input().split()])+dt.timedelta(days=int(input()))\n",
    "print(x.year, x.month, x.day)\n",
    "#y=datetime.date(2016, 4, 16)\n",
    "#(x-y).days"
   ]
  },
  {
   "cell_type": "code",
   "execution_count": 4,
   "metadata": {},
   "outputs": [],
   "source": [
    "x=[1,2,3]\n",
    "def is_odd(x):\n",
    "    return x%2!=0"
   ]
  },
  {
   "cell_type": "code",
   "execution_count": 7,
   "metadata": {},
   "outputs": [
    {
     "data": {
      "text/plain": [
       "[1, 3]"
      ]
     },
     "execution_count": 7,
     "metadata": {},
     "output_type": "execute_result"
    }
   ],
   "source": [
    "list(filter(lambda x:x%2!=0, x))"
   ]
  },
  {
   "cell_type": "code",
   "execution_count": 58,
   "metadata": {},
   "outputs": [],
   "source": [
    "class multifilter:\n",
    "    def judge_half(pos, neg):\n",
    "        return pos >= neg\n",
    "        # допускает элемент, если его допускает хотя бы половина фукнций (pos >= neg)\n",
    "\n",
    "    def judge_any(pos, neg):\n",
    "        return pos >= 1\n",
    "        # допускает элемент, если его допускает хотя бы одна функция (pos >= 1)\n",
    "\n",
    "    def judge_all(pos, neg):\n",
    "        return neg==0\n",
    "        # допускает элемент, если его допускают все функции (neg == 0)\n",
    "\n",
    "    def __init__(self, iterable, *funcs, judge=judge_any):\n",
    "        self.iterable=iterable\n",
    "        self.funcs=funcs\n",
    "        self.judge=judge\n",
    "        \n",
    "    def __iter__(self):\n",
    "        res=[]\n",
    "        for i in self.iterable:\n",
    "            pos=0\n",
    "            neg=0\n",
    "            for f in self.funcs:\n",
    "                if f(i): pos+=1\n",
    "                else: neg+=1\n",
    "            if self.judge(pos,neg): res.append(i)\n",
    "                \n",
    "        return iter(res)\n",
    "        \n",
    "        # возвращает итератор по результирующей последовательности"
   ]
  },
  {
   "cell_type": "code",
   "execution_count": 59,
   "metadata": {},
   "outputs": [
    {
     "name": "stdout",
     "output_type": "stream",
     "text": [
      "[0, 2, 3, 4, 5, 6, 8, 9, 10, 12, 14, 15, 16, 18, 20, 21, 22, 24, 25, 26, 27, 28, 30]\n",
      "[0, 6, 10, 12, 15, 18, 20, 24, 30]\n",
      "[0, 30]\n"
     ]
    }
   ],
   "source": [
    "\n",
    "def mul2(x):\n",
    "    return x % 2 == 0\n",
    "\n",
    "def mul3(x):\n",
    "    return x % 3 == 0\n",
    "\n",
    "def mul5(x):\n",
    "    return x % 5 == 0\n",
    "\n",
    "\n",
    "a = [i for i in range(31)] # [0, 1, 2, ... , 30]\n",
    "\n",
    "print(list(multifilter(a, mul2, mul3, mul5))) \n",
    "# [0, 2, 3, 4, 5, 6, 8, 9, 10, 12, 14, 15, 16, 18, 20, 21, 22, 24, 25, 26, 27, 28, 30]\n",
    "\n",
    "print(list(multifilter(a, mul2, mul3, mul5, judge=multifilter.judge_half))) \n",
    "# [0, 6, 10, 12, 15, 18, 20, 24, 30]\n",
    "\n",
    "print(list(multifilter(a, mul2, mul3, mul5, judge=multifilter.judge_all))) \n",
    "# [0, 30]"
   ]
  },
  {
   "cell_type": "code",
   "execution_count": null,
   "metadata": {},
   "outputs": [],
   "source": [
    "class primes:\n",
    "    def __next__"
   ]
  },
  {
   "cell_type": "code",
   "execution_count": null,
   "metadata": {},
   "outputs": [],
   "source": []
  }
 ],
 "metadata": {
  "kernelspec": {
   "display_name": "Python 3",
   "language": "python",
   "name": "python3"
  },
  "language_info": {
   "codemirror_mode": {
    "name": "ipython",
    "version": 3
   },
   "file_extension": ".py",
   "mimetype": "text/x-python",
   "name": "python",
   "nbconvert_exporter": "python",
   "pygments_lexer": "ipython3",
   "version": "3.7.4"
  }
 },
 "nbformat": 4,
 "nbformat_minor": 2
}
