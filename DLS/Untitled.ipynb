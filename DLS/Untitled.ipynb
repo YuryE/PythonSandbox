{
 "cells": [
  {
   "cell_type": "code",
   "execution_count": 77,
   "metadata": {},
   "outputs": [],
   "source": [
    "import numpy as np\n",
    "def almost_double_factorial(n):\n",
    "    if n!=0:\n",
    "        a=1\n",
    "        for i in range(1,n+1,2):\n",
    "            a*=i\n",
    "    else:\n",
    "        a=None\n",
    "    return a"
   ]
  },
  {
   "cell_type": "code",
   "execution_count": null,
   "metadata": {},
   "outputs": [],
   "source": [
    "almost_double_factorial(11)/9"
   ]
  },
  {
   "cell_type": "code",
   "execution_count": 82,
   "metadata": {},
   "outputs": [],
   "source": [
    "items = [('one', 'two'), ('three', 'four'), ('five', 'six'), ('string', 'a')]\n",
    "#Мы хотим отсортировать этот список по последней букве второго элемента каждого tuple, т.е. получить такой список:\n",
    "\n",
    "#sorted_items = [ ('string', 'a'), ('one', 'two'), ('three', 'four'), ('five', 'six'),]\n",
    "#Что нужно вставить вместо \"<...>\" в следующем выражении, чтобы получить верную сортировку?\n",
    "\n",
    "sorted_items = sorted(items, key=lambda x:x[1][-1])"
   ]
  },
  {
   "cell_type": "code",
   "execution_count": 83,
   "metadata": {},
   "outputs": [
    {
     "data": {
      "text/plain": [
       "[('string', 'a'), ('one', 'two'), ('three', 'four'), ('five', 'six')]"
      ]
     },
     "execution_count": 83,
     "metadata": {},
     "output_type": "execute_result"
    }
   ],
   "source": [
    "sorted_items"
   ]
  },
  {
   "cell_type": "code",
   "execution_count": 86,
   "metadata": {},
   "outputs": [
    {
     "name": "stdout",
     "output_type": "stream",
     "text": [
      "[-5, 2, -3, 4, -1]\n"
     ]
    }
   ],
   "source": [
    "x = [1, 2, 3, 4, 5]\n",
    "x[::-2] = [-1, -3, -5]\n",
    "\n",
    "print(x)"
   ]
  },
  {
   "cell_type": "code",
   "execution_count": 125,
   "metadata": {},
   "outputs": [],
   "source": [
    "A=[1,4,6,50,100]"
   ]
  },
  {
   "cell_type": "code",
   "execution_count": 144,
   "metadata": {},
   "outputs": [],
   "source": [
    "def cumsum_and_erase(A,erase=1):\n",
    "    B=[A[0]]\n",
    "    for i in range(1,len(A)):\n",
    "        B+=[B[i-1]+A[i]]\n",
    "    while erase in B:\n",
    "        B.remove(erase)\n",
    "    return B"
   ]
  },
  {
   "cell_type": "code",
   "execution_count": 145,
   "metadata": {},
   "outputs": [],
   "source": [
    "A = [5, 1, 4, 5, 14] \n",
    "B = cumsum_and_erase(A, erase=10) \n",
    "assert B == [5, 6, 15, 29], \"Something is wrong! Please try again\""
   ]
  },
  {
   "cell_type": "code",
   "execution_count": 150,
   "metadata": {},
   "outputs": [],
   "source": [
    "texts=['1 thousand devils', 'My name is 9Pasha', 'Room #125 costs $100']"
   ]
  },
  {
   "cell_type": "code",
   "execution_count": 188,
   "metadata": {},
   "outputs": [],
   "source": [
    "def process(texts):\n",
    "    new=[]\n",
    "    for i in texts:\n",
    "        new+=[' '.join([i for i in i.split(' ') if i.isalpha()==True],)]\n",
    "    return(new)"
   ]
  },
  {
   "cell_type": "code",
   "execution_count": 189,
   "metadata": {},
   "outputs": [
    {
     "data": {
      "text/plain": [
       "['thousand devils', 'My name is', 'Room costs']"
      ]
     },
     "execution_count": 189,
     "metadata": {},
     "output_type": "execute_result"
    }
   ],
   "source": [
    "process(texts)"
   ]
  },
  {
   "cell_type": "code",
   "execution_count": 210,
   "metadata": {},
   "outputs": [],
   "source": [
    "import numpy as np\n",
    "class Neuron:\n",
    "    def __init__(self, w, f = lambda x: x):\n",
    "        self.weights=np.array(w)\n",
    "        self.func=f\n",
    "    def forward(self, x):\n",
    "        self.values=np.array(x)\n",
    "        return self.func(np.sum(self.weights*self.values))\n",
    "    def backlog(self):\n",
    "        try:\n",
    "            return list(self.values)\n",
    "        except AttributeError:\n",
    "            return None"
   ]
  },
  {
   "cell_type": "code",
   "execution_count": 211,
   "metadata": {},
   "outputs": [],
   "source": [
    "x=Neuron([1,1,0.5],lambda x: x**2)"
   ]
  },
  {
   "cell_type": "code",
   "execution_count": 206,
   "metadata": {},
   "outputs": [
    {
     "data": {
      "text/plain": [
       "90.25"
      ]
     },
     "execution_count": 206,
     "metadata": {},
     "output_type": "execute_result"
    }
   ],
   "source": [
    "x.forward([3,4,5])"
   ]
  },
  {
   "cell_type": "code",
   "execution_count": 212,
   "metadata": {},
   "outputs": [],
   "source": [
    "x.backlog()"
   ]
  },
  {
   "cell_type": "code",
   "execution_count": null,
   "metadata": {},
   "outputs": [],
   "source": []
  }
 ],
 "metadata": {
  "kernelspec": {
   "display_name": "Python 3",
   "language": "python",
   "name": "python3"
  },
  "language_info": {
   "codemirror_mode": {
    "name": "ipython",
    "version": 3
   },
   "file_extension": ".py",
   "mimetype": "text/x-python",
   "name": "python",
   "nbconvert_exporter": "python",
   "pygments_lexer": "ipython3",
   "version": "3.7.4"
  }
 },
 "nbformat": 4,
 "nbformat_minor": 2
}
