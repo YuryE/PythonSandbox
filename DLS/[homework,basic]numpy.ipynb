{
 "cells": [
  {
   "cell_type": "markdown",
   "metadata": {
    "colab_type": "text",
    "id": "KxIquH6GK7kt"
   },
   "source": [
    "<p style=\"align: center;\"><img align=center src=\"https://s8.hostingkartinok.com/uploads/images/2018/08/308b49fcfbc619d629fe4604bceb67ac.jpg\" width=500 height=450/></p>\n",
    "\n",
    "<h3 style=\"text-align: center;\"><b>Физтех-Школа Прикладной математики и информатики (ФПМИ) МФТИ</b></h3>"
   ]
  },
  {
   "cell_type": "code",
   "execution_count": 65,
   "metadata": {},
   "outputs": [
    {
     "data": {
      "text/plain": [
       "array([[  1, -15],\n",
       "       [ 18, -10],\n",
       "       [ 11, -13]])"
      ]
     },
     "execution_count": 65,
     "metadata": {},
     "output_type": "execute_result"
    }
   ],
   "source": [
    "import numpy as np\n",
    "a=[[5,1,-2,0],\n",
    "   [0,3,4,3],\n",
    "   [2,3,1,1]]\n",
    "b=[[1,-3],\n",
    "   [2,-2],\n",
    "   [3,-1],\n",
    "   [0,0]]\n",
    "c=[[5*1+1*2+-2*3+0,5*-3+1*-2+-2*-1+0],\n",
    "   [0+6+12+0,0+-6+-4+0],\n",
    "   [2+6+3+0,-6+-6+-1+0]]\n",
    "np.dot(a,b)\n"
   ]
  },
  {
   "cell_type": "markdown",
   "metadata": {
    "colab_type": "text",
    "id": "h8gsBtzoGEhe"
   },
   "source": [
    "---"
   ]
  },
  {
   "cell_type": "markdown",
   "metadata": {
    "colab_type": "text",
    "id": "f32591XJK7kw"
   },
   "source": [
    "## Домашнее задание: библиотека Numpy и линейная алгебра. Решение\n"
   ]
  },
  {
   "cell_type": "code",
   "execution_count": 11,
   "metadata": {
    "colab": {},
    "colab_type": "code",
    "id": "YEJ8DQ4QK7kx"
   },
   "outputs": [],
   "source": [
    "import numpy as np\n",
    "import random\n",
    "import scipy.stats as sps"
   ]
  },
  {
   "cell_type": "markdown",
   "metadata": {
    "colab_type": "text",
    "id": "5_eFZpeoK7k2"
   },
   "source": [
    "### Numpy"
   ]
  },
  {
   "cell_type": "markdown",
   "metadata": {
    "colab_type": "text",
    "id": "hYXhVX0eK7k2"
   },
   "source": [
    "### Задание 1\n",
    "В первой задаче вам предлагается перемножить две квадратные матрицы двумя способами -- без использования пакета ***numpy*** и с ним."
   ]
  },
  {
   "cell_type": "code",
   "execution_count": 118,
   "metadata": {
    "colab": {
     "base_uri": "https://localhost:8080/",
     "height": 255
    },
    "colab_type": "code",
    "id": "zJR8EANzK7k3",
    "outputId": "44277455-5875-4c28-c445-1e5fba38f950"
   },
   "outputs": [
    {
     "name": "stdout",
     "output_type": "stream",
     "text": [
      "[[0.73641875 0.54493554 0.41830723 ... 0.02050073 0.47145463 0.31035203]\n",
      " [0.41355627 0.36450176 0.27473357 ... 0.13305113 0.07487659 0.52163544]\n",
      " [0.05090821 0.42323811 0.44826067 ... 0.91955535 0.98201895 0.73319633]\n",
      " ...\n",
      " [0.5986544  0.54816712 0.70330118 ... 0.68925636 0.78068006 0.94770695]\n",
      " [0.8999018  0.32434033 0.33152646 ... 0.54017951 0.42196132 0.40357341]\n",
      " [0.59137604 0.696298   0.11844246 ... 0.88161797 0.61285658 0.32888811]]\n",
      "[[0.08884412 0.85362873 0.45989984 ... 0.20049865 0.40021728 0.74310254]\n",
      " [0.77167584 0.39875776 0.46310128 ... 0.01652282 0.03903942 0.62109333]\n",
      " [0.45857853 0.48142151 0.80190354 ... 0.01386435 0.64562406 0.51842003]\n",
      " ...\n",
      " [0.34597625 0.63763012 0.48259334 ... 0.37326186 0.18271994 0.33291169]\n",
      " [0.24882188 0.0032417  0.22267412 ... 0.52442294 0.67252392 0.96701484]\n",
      " [0.61416933 0.28743126 0.28940285 ... 0.73085873 0.73529334 0.74178171]]\n"
     ]
    }
   ],
   "source": [
    "# Для генерации матриц используем фукнцию random -- она используется для генерации случайных объектов \n",
    "# функция sample создает случайную выборку. В качестве аргумента ей передается кортеж (i,j),  \n",
    "# здесь i -- число строк, j -- число столбцов.\n",
    "a = np.random.sample((100, 100))\n",
    "b = np.random.sample((100, 100))\n",
    "# выведите размерность (ранг) каждой матрицы с помощью функции ndim.\n",
    "# Используйте функцию shape, что она вывела?\n",
    "# ========\n",
    "# Ваш код здесь\n",
    "# ========\n",
    "print(a)\n",
    "print(b)"
   ]
  },
  {
   "cell_type": "code",
   "execution_count": 115,
   "metadata": {
    "colab": {},
    "colab_type": "code",
    "id": "bkWCI4TPK7k8"
   },
   "outputs": [],
   "source": [
    "def mult(a, b):\n",
    "    return [[(sum([a[i][p]*b[p][k] for p in range(len(b))])) for k in range(len(b[0]))] for i in range(len(a))]"
   ]
  },
  {
   "cell_type": "code",
   "execution_count": 121,
   "metadata": {
    "colab": {},
    "colab_type": "code",
    "id": "IIgYD1W5K7lB"
   },
   "outputs": [],
   "source": [
    "def np_mult(a, b):\n",
    "    return np.dot(a,b)"
   ]
  },
  {
   "cell_type": "code",
   "execution_count": 122,
   "metadata": {
    "colab": {
     "base_uri": "https://localhost:8080/",
     "height": 51
    },
    "colab_type": "code",
    "id": "tktkYzUHK7lE",
    "outputId": "9e9c5db8-cd49-4c0f-cb11-97825805163b"
   },
   "outputs": [
    {
     "name": "stdout",
     "output_type": "stream",
     "text": [
      "CPU times: user 1.49 s, sys: 9.44 ms, total: 1.5 s\n",
      "Wall time: 1.51 s\n"
     ]
    }
   ],
   "source": [
    "%%time\n",
    "# засечем время работы функции без NumPy\n",
    "M1 = mult(a, b)"
   ]
  },
  {
   "cell_type": "code",
   "execution_count": 123,
   "metadata": {
    "colab": {
     "base_uri": "https://localhost:8080/",
     "height": 51
    },
    "colab_type": "code",
    "id": "TmD0adgHK7lK",
    "outputId": "2a78a62c-c2b2-45de-d417-30fcdfb11cf3"
   },
   "outputs": [
    {
     "name": "stdout",
     "output_type": "stream",
     "text": [
      "CPU times: user 4.62 ms, sys: 15.4 ms, total: 20 ms\n",
      "Wall time: 69.1 ms\n"
     ]
    }
   ],
   "source": [
    "%%time\n",
    "# засечем время работы функции с NumPy\n",
    "M2 = np_mult(a, b)"
   ]
  },
  {
   "cell_type": "code",
   "execution_count": 124,
   "metadata": {
    "colab": {
     "base_uri": "https://localhost:8080/",
     "height": 34
    },
    "colab_type": "code",
    "id": "oftqyANQK7lS",
    "outputId": "8dac878b-70c9-4f2e-fff9-994a73fcd757"
   },
   "outputs": [
    {
     "data": {
      "text/plain": [
       "0.0"
      ]
     },
     "execution_count": 124,
     "metadata": {},
     "output_type": "execute_result"
    }
   ],
   "source": [
    "# проверим корректность\n",
    "np.abs(np.array(M1) - M2).sum()"
   ]
  },
  {
   "cell_type": "markdown",
   "metadata": {
    "colab_type": "text",
    "id": "2itTyTlcaHAu"
   },
   "source": [
    "### Задание 2"
   ]
  },
  {
   "cell_type": "markdown",
   "metadata": {
    "colab_type": "text",
    "id": "BCemQSq-aEbO"
   },
   "source": [
    "Вам подаются на вход два вектора `a` и `b` в трехмерном пространстве. Заполните их случайными числами. Реализуйте их скалярное произведение с помощью  `NumPy` и без. Засеките время работы, как это показано в заданиях выше."
   ]
  },
  {
   "cell_type": "code",
   "execution_count": 0,
   "metadata": {
    "colab": {
     "base_uri": "https://localhost:8080/",
     "height": 34
    },
    "colab_type": "code",
    "id": "lWhr_gPSZ9o_",
    "outputId": "734d9bf4-8c98-46a1-ffcc-934d0805024d"
   },
   "outputs": [
    {
     "name": "stdout",
     "output_type": "stream",
     "text": [
      "[0.82238967 0.60895342 0.18699693] [0.10087098 0.31786346 0.05313135]\n"
     ]
    }
   ],
   "source": [
    "a = np.random.sample((1, 3))\n",
    "a = list(a)[0]\n",
    "b = np.random.sample((1, 3))\n",
    "b = list(b)[0]\n",
    "print(a, b)"
   ]
  },
  {
   "cell_type": "code",
   "execution_count": 0,
   "metadata": {
    "colab": {},
    "colab_type": "code",
    "id": "GjlkcHIWZ_ae"
   },
   "outputs": [],
   "source": [
    "def scalar_product(a,b):\n",
    "    #YOUR CODE"
   ]
  },
  {
   "cell_type": "code",
   "execution_count": 0,
   "metadata": {
    "colab": {},
    "colab_type": "code",
    "id": "C2M-OAp5Z_6a"
   },
   "outputs": [],
   "source": [
    "def np_scalar_product(a,b):\n",
    "    #YOUR CODE"
   ]
  },
  {
   "cell_type": "code",
   "execution_count": 0,
   "metadata": {
    "colab": {
     "base_uri": "https://localhost:8080/",
     "height": 102
    },
    "colab_type": "code",
    "id": "BOQfYf-2aCQJ",
    "outputId": "6a85f59a-2073-4824-e1bf-acf96ed274a0",
    "scrolled": true
   },
   "outputs": [
    {
     "name": "stdout",
     "output_type": "stream",
     "text": [
      "CPU times: user 20 µs, sys: 1 µs, total: 21 µs\n",
      "Wall time: 24.1 µs\n",
      "CPU times: user 1.71 ms, sys: 66 µs, total: 1.78 ms\n",
      "Wall time: 20.8 ms\n"
     ]
    },
    {
     "data": {
      "text/plain": [
       "0.0"
      ]
     },
     "execution_count": 36,
     "metadata": {
      "tags": []
     },
     "output_type": "execute_result"
    }
   ],
   "source": [
    "%time product_1 = scalar_product(a,b)\n",
    "%time product_2 = np_scalar_product(a,b)\n",
    "# проверим корректность:\n",
    "np.abs(product_1 - product_2).sum()"
   ]
  },
  {
   "cell_type": "markdown",
   "metadata": {
    "colab_type": "text",
    "id": "NHaHu6q1K7mH"
   },
   "source": [
    "Почему методы ***numpy*** оказываются эффективнее? Что вы можете сказать о скорости вычислений в NumPy?"
   ]
  },
  {
   "cell_type": "markdown",
   "metadata": {
    "colab_type": "text",
    "id": "PqsTAb1M7TTQ"
   },
   "source": [
    "------------------"
   ]
  },
  {
   "cell_type": "markdown",
   "metadata": {
    "colab_type": "text",
    "id": "_A3p2s4eK7mI"
   },
   "source": [
    "**Ответ:** Скорость вычислений вектоных и матричных операций в NumPy сильно превосходит скорость вычислений без него, по большей части потому, что функции numpy работаю с массивами данных одного типа (числовыми), это позволяет реализовать встроенные функции numpy на C/C++, что, конечно, делает numpy быстрее (функции, которые вызывает Numpy для работы с числовыми данными, сильно оптимизированы именно под эти задачи, а сам Python просто гоняет интерпретатор по циклу в таких операциях, что является чуть ли не самым большим замедлением в работе интерпретатора)."
   ]
  },
  {
   "cell_type": "markdown",
   "metadata": {
    "colab_type": "text",
    "id": "mJXeUuznK7lm"
   },
   "source": [
    "### Задание 3\n",
    "Напишите функцию, которая находим сумму четных диагональныех элементов квадратной матрицы. Если таких элементов нет, то вывести `0`."
   ]
  },
  {
   "cell_type": "code",
   "execution_count": 0,
   "metadata": {
    "colab": {},
    "colab_type": "code",
    "id": "qYNiKbK47TTS"
   },
   "outputs": [],
   "source": [
    "# функция, решающая задачу с помощью NumPy\n",
    "def np_diag_2k(a):\n",
    "    #YOUR CODE"
   ]
  },
  {
   "cell_type": "code",
   "execution_count": 0,
   "metadata": {
    "colab": {},
    "colab_type": "code",
    "id": "BdInn8_j7TTU",
    "outputId": "854af7cf-b713-40b1-8984-8868a42b4b5e"
   },
   "outputs": [
    {
     "data": {
      "text/plain": [
       "array([[4, 6, 1, 5, 5],\n",
       "       [9, 2, 6, 7, 4],\n",
       "       [9, 2, 8, 3, 7],\n",
       "       [7, 6, 2, 4, 7],\n",
       "       [5, 9, 7, 6, 9]])"
      ]
     },
     "execution_count": 19,
     "metadata": {
      "tags": []
     },
     "output_type": "execute_result"
    }
   ],
   "source": [
    "# зададим некоторую квадратную матрицу\n",
    "a = np.random.randint(1, 10, size=(5, 5))\n",
    "a"
   ]
  },
  {
   "cell_type": "code",
   "execution_count": 0,
   "metadata": {
    "colab": {},
    "colab_type": "code",
    "id": "ZR97Nt9N7TTW",
    "outputId": "56679264-0a18-41ab-89d5-4dc758946885"
   },
   "outputs": [
    {
     "name": "stdout",
     "output_type": "stream",
     "text": [
      "CPU times: user 107 µs, sys: 4 µs, total: 111 µs\n",
      "Wall time: 118 µs\n"
     ]
    },
    {
     "data": {
      "text/plain": [
       "18"
      ]
     },
     "execution_count": 22,
     "metadata": {
      "tags": []
     },
     "output_type": "execute_result"
    }
   ],
   "source": [
    "%%time\n",
    "# засечем время работы функции с NumPy\n",
    "np_diag_2k(a)"
   ]
  },
  {
   "cell_type": "markdown",
   "metadata": {
    "colab_type": "text",
    "id": "cdcRkFzQ7TTY"
   },
   "source": [
    "### Задание 4\n",
    "Напишите функцию, которая по данной последовательности $\\{A_i\\}_{i=1}^n$ строит последовательность $S_n$, где $S_k = \\frac{A_1 + ... + A_k}{k}$.  "
   ]
  },
  {
   "cell_type": "code",
   "execution_count": 0,
   "metadata": {
    "colab": {},
    "colab_type": "code",
    "id": "REgL39ksK7lr"
   },
   "outputs": [],
   "source": [
    "# функция, решающая задачу с помощью NumPy\n",
    "def np_sec_av(A):\n",
    "    return #YOUR CODE"
   ]
  },
  {
   "cell_type": "code",
   "execution_count": 0,
   "metadata": {
    "colab": {
     "base_uri": "https://localhost:8080/",
     "height": 102
    },
    "colab_type": "code",
    "id": "HcVN8MagK7lw",
    "outputId": "a4cc2ffd-84f2-46b5-9789-aa728d8899f9"
   },
   "outputs": [
    {
     "name": "stdout",
     "output_type": "stream",
     "text": [
      "CPU times: user 616 µs, sys: 0 ns, total: 616 µs\n",
      "Wall time: 507 µs\n"
     ]
    }
   ],
   "source": [
    "# зададим некоторую последовательность и проверим ее на ваших функциях. \n",
    "# функция должна работать ~ в 50 раз быстрее, чем без Numpy\n",
    "A = sps.uniform.rvs(size=10**3) \n",
    "\n",
    "%time S2 = np_sec_av(A)"
   ]
  },
  {
   "cell_type": "markdown",
   "metadata": {
    "colab_type": "text",
    "id": "teVCPWZmK7l5"
   },
   "source": [
    "### Задание 5\n",
    "\n",
    "​\n",
    "Задан двумерный массив $X$. Для каждой строчки массива X необходимо сделать следующее преобразование.\n",
    "\n",
    "Пусть дана строчка x. Необходимо построить новый массив, где все элементы с нечетными индексами требуется заменить на число a (значение по умолчанию a=1). Все элементы с четными индексами нужно возвести в куб. Затем записать элементы в обратном порядке относительно их позиций. В конце требуется слить массив xс преобразованным xи вывести.\n",
    "\n",
    "Напишите функцию, которая выполняет данное преобразование для каждой строчки двумерного массива X. Массив X при этом должен остаться без изменений.\n",
    "\n",
    "Используйте библиотеку numpy.\n",
    "\n",
    "Пример:\n",
    "$X = [[100,200,300,400,500]]$ -> $[[100,a,300,a,500]]$ -> $[[500^3,a,300^3,a,100^3]]$ -> склеиваем -> $[[100,200,300,400,500,500^3,a,300^3,a,100^3]]$\n",
    "\n",
    "​"
   ]
  },
  {
   "cell_type": "code",
   "execution_count": 0,
   "metadata": {
    "colab": {},
    "colab_type": "code",
    "id": "0hmcvfDVK7l-"
   },
   "outputs": [],
   "source": [
    "# функция, решающая задачу с помощью NumPy\n",
    "from copy import copy\n",
    "def np_transformation(X, a=1):\n",
    "    #YOUR CODE"
   ]
  },
  {
   "cell_type": "code",
   "execution_count": 0,
   "metadata": {
    "colab": {
     "base_uri": "https://localhost:8080/",
     "height": 102
    },
    "colab_type": "code",
    "id": "r2-JLMhxK7mE",
    "outputId": "13559189-f157-4649-dc9d-f12af1366519",
    "scrolled": true
   },
   "outputs": [
    {
     "name": "stdout",
     "output_type": "stream",
     "text": [
      "CPU times: user 159 µs, sys: 0 ns, total: 159 µs\n",
      "Wall time: 183 µs\n"
     ]
    }
   ],
   "source": [
    "X = np.array([i for i in range(1, 10, 2)])\n",
    "# функция должна работать ~ в 20 раз быстрее, чем без Numpy \n",
    "%time S2 = np_transformation(X, 5)"
   ]
  },
  {
   "cell_type": "markdown",
   "metadata": {
    "colab_type": "text",
    "id": "qa521fce7TTk"
   },
   "source": [
    "### Задание 6\n",
    "Написать функцию для кодирование массива (Run-length encoding). Все подряд повторения элементов функция сжимает в один элемент и считает количество повторений. Функция возвращает кортеж из двух векторов одинаковой длины. Первый содержит элементы, а второй — сколько раз их нужно повторить. \n",
    "\n",
    "Пример: encode(np.array([1, 2, 2, 3, 3, 1, 1, 5, 5, 2, 3, 3])) = (np.array[1, 2, 3, 1, 5, 2, 3]), np.array[1, 2, 2, 2, 2, 1, 2])"
   ]
  },
  {
   "cell_type": "code",
   "execution_count": 0,
   "metadata": {
    "colab": {},
    "colab_type": "code",
    "id": "4wD7OSVv7TTl"
   },
   "outputs": [],
   "source": [
    "# функция, решающая задачу с помощью NumPy\n",
    "def np_encode(a):\n",
    "    #YOUR CODE"
   ]
  },
  {
   "cell_type": "code",
   "execution_count": 0,
   "metadata": {
    "colab": {},
    "colab_type": "code",
    "id": "P7YxojET7TTn",
    "outputId": "4a5fdafe-55a1-4c10-857e-305ce1ee68e0"
   },
   "outputs": [
    {
     "name": "stdout",
     "output_type": "stream",
     "text": [
      "CPU times: user 51 µs, sys: 2 µs, total: 53 µs\n",
      "Wall time: 58.7 µs\n"
     ]
    }
   ],
   "source": [
    "X = np.array([1, 2, 2, 3, 3, 1, 1, 5, 5, 2, 3, 3])\n",
    "\n",
    "%time x, num = np_encode(X)"
   ]
  },
  {
   "cell_type": "code",
   "execution_count": 0,
   "metadata": {
    "colab": {},
    "colab_type": "code",
    "id": "UFEfPGvY7TTp"
   },
   "outputs": [],
   "source": []
  }
 ],
 "metadata": {
  "colab": {
   "collapsed_sections": [],
   "name": "[homework,basic]numpy.ipynb",
   "provenance": []
  },
  "kernelspec": {
   "display_name": "Python 3",
   "language": "python",
   "name": "python3"
  },
  "language_info": {
   "codemirror_mode": {
    "name": "ipython",
    "version": 3
   },
   "file_extension": ".py",
   "mimetype": "text/x-python",
   "name": "python",
   "nbconvert_exporter": "python",
   "pygments_lexer": "ipython3",
   "version": "3.7.4"
  }
 },
 "nbformat": 4,
 "nbformat_minor": 1
}
