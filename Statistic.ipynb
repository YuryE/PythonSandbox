{
 "cells": [
  {
   "cell_type": "code",
   "execution_count": 2,
   "metadata": {},
   "outputs": [
    {
     "name": "stdout",
     "output_type": "stream",
     "text": [
      "[ -1.11  23.78  30.53  75.53 135.45  92.34 110.2  118.75 260.26 306.25\n",
      "  30.    64.  ]\n"
     ]
    }
   ],
   "source": [
    "import numpy as np\n",
    "x=np.array([3.7,5.8,7.1,9.1,10.5,11.4,11.6,12.5,14.3,17.5,30.,32.],dtype=float)\n",
    "y=np.array([-0.3,4.1,4.3,8.3,12.9,8.1,9.5,9.5,18.2,17.5,1.,2.])\n",
    "for i in x:\n",
    "    x.append\n",
    "a=x*y\n",
    "print(a)"
   ]
  },
  {
   "cell_type": "code",
   "execution_count": null,
   "metadata": {},
   "outputs": [],
   "source": [
    "\n",
    "np.array=[3.7,-0.3]\n",
    "#Чтобы ранжировать значения их необходимо отсортировать и присвоить им индекс соответствующий порядку.\n",
    "sum(x)\n",
    "\n",
    "sum(y)\n",
    "sorted(y)\n",
    "print(np.array)"
   ]
  }
 ],
 "metadata": {
  "kernelspec": {
   "display_name": "Python 3",
   "language": "python",
   "name": "python3"
  },
  "language_info": {
   "codemirror_mode": {
    "name": "ipython",
    "version": 3
   },
   "file_extension": ".py",
   "mimetype": "text/x-python",
   "name": "python",
   "nbconvert_exporter": "python",
   "pygments_lexer": "ipython3",
   "version": "3.7.4"
  }
 },
 "nbformat": 4,
 "nbformat_minor": 2
}
