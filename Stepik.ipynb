{
 "cells": [
  {
   "cell_type": "markdown",
   "metadata": {},
   "source": [
    "# Первая неделя"
   ]
  },
  {
   "cell_type": "markdown",
   "metadata": {},
   "source": [
    "## Целые числа"
   ]
  },
  {
   "cell_type": "code",
   "execution_count": 1,
   "metadata": {},
   "outputs": [
    {
     "data": {
      "text/plain": [
       "12345554321"
      ]
     },
     "execution_count": 1,
     "metadata": {},
     "output_type": "execute_result"
    }
   ],
   "source": [
    "11111*1111111"
   ]
  },
  {
   "cell_type": "code",
   "execution_count": 3,
   "metadata": {},
   "outputs": [
    {
     "ename": "ZeroDivisionError",
     "evalue": "division by zero",
     "output_type": "error",
     "traceback": [
      "\u001b[0;31m---------------------------------------------------------------------------\u001b[0m",
      "\u001b[0;31mZeroDivisionError\u001b[0m                         Traceback (most recent call last)",
      "\u001b[0;32m<ipython-input-3-1cc156a7f7e2>\u001b[0m in \u001b[0;36m<module>\u001b[0;34m\u001b[0m\n\u001b[0;32m----> 1\u001b[0;31m \u001b[0;36m42\u001b[0m\u001b[0;34m/\u001b[0m\u001b[0;34m(\u001b[0m\u001b[0;36m4\u001b[0m\u001b[0;34m+\u001b[0m\u001b[0;36m2\u001b[0m\u001b[0;34m*\u001b[0m\u001b[0;34m(\u001b[0m\u001b[0;34m-\u001b[0m\u001b[0;36m2\u001b[0m\u001b[0;34m)\u001b[0m\u001b[0;34m)\u001b[0m\u001b[0;34m\u001b[0m\u001b[0;34m\u001b[0m\u001b[0m\n\u001b[0m",
      "\u001b[0;31mZeroDivisionError\u001b[0m: division by zero"
     ]
    }
   ],
   "source": [
    "42/(4+2*(-2))"
   ]
  },
  {
   "cell_type": "code",
   "execution_count": 4,
   "metadata": {},
   "outputs": [
    {
     "data": {
      "text/plain": [
       "18064773765607550801425251468864907833685590016"
      ]
     },
     "execution_count": 4,
     "metadata": {},
     "output_type": "execute_result"
    }
   ],
   "source": [
    "2014**14"
   ]
  },
  {
   "cell_type": "markdown",
   "metadata": {},
   "source": [
    "## Вещественные числа"
   ]
  },
  {
   "cell_type": "code",
   "execution_count": 7,
   "metadata": {},
   "outputs": [
    {
     "data": {
      "text/plain": [
       "1234.5"
      ]
     },
     "execution_count": 7,
     "metadata": {},
     "output_type": "execute_result"
    }
   ],
   "source": [
    "1.2345e3"
   ]
  },
  {
   "cell_type": "code",
   "execution_count": 6,
   "metadata": {},
   "outputs": [
    {
     "data": {
      "text/plain": [
       "0.0012345"
      ]
     },
     "execution_count": 6,
     "metadata": {},
     "output_type": "execute_result"
    }
   ],
   "source": [
    "1.2345e-3"
   ]
  },
  {
   "cell_type": "code",
   "execution_count": 8,
   "metadata": {},
   "outputs": [
    {
     "data": {
      "text/plain": [
       "1.806477376560755e+46"
      ]
     },
     "execution_count": 8,
     "metadata": {},
     "output_type": "execute_result"
    }
   ],
   "source": [
    "2014.**14"
   ]
  },
  {
   "cell_type": "code",
   "execution_count": 9,
   "metadata": {},
   "outputs": [
    {
     "data": {
      "text/plain": [
       "2.3333333333333335"
      ]
     },
     "execution_count": 9,
     "metadata": {},
     "output_type": "execute_result"
    }
   ],
   "source": [
    "7/3"
   ]
  },
  {
   "cell_type": "code",
   "execution_count": 10,
   "metadata": {},
   "outputs": [
    {
     "data": {
      "text/plain": [
       "2"
      ]
     },
     "execution_count": 10,
     "metadata": {},
     "output_type": "execute_result"
    }
   ],
   "source": [
    "7//3"
   ]
  },
  {
   "cell_type": "code",
   "execution_count": 11,
   "metadata": {},
   "outputs": [
    {
     "data": {
      "text/plain": [
       "2"
      ]
     },
     "execution_count": 11,
     "metadata": {},
     "output_type": "execute_result"
    }
   ],
   "source": [
    "int(2.99)"
   ]
  },
  {
   "cell_type": "code",
   "execution_count": 12,
   "metadata": {},
   "outputs": [
    {
     "data": {
      "text/plain": [
       "-1"
      ]
     },
     "execution_count": 12,
     "metadata": {},
     "output_type": "execute_result"
    }
   ],
   "source": [
    "int(-1.6)"
   ]
  },
  {
   "cell_type": "code",
   "execution_count": 13,
   "metadata": {},
   "outputs": [
    {
     "data": {
      "text/plain": [
       "89"
      ]
     },
     "execution_count": 13,
     "metadata": {},
     "output_type": "execute_result"
    }
   ],
   "source": [
    "9**19 - int(float(9**19))"
   ]
  },
  {
   "cell_type": "markdown",
   "metadata": {},
   "source": [
    "## Переменные, ввод-вывод"
   ]
  },
  {
   "cell_type": "code",
   "execution_count": 18,
   "metadata": {},
   "outputs": [
    {
     "name": "stdout",
     "output_type": "stream",
     "text": [
      "480\n",
      "8\n",
      "0\n"
     ]
    }
   ],
   "source": [
    "X=int(input())\n",
    "print(X//60)\n",
    "print(X%60)"
   ]
  },
  {
   "cell_type": "code",
   "execution_count": 21,
   "metadata": {},
   "outputs": [
    {
     "name": "stdout",
     "output_type": "stream",
     "text": [
      "485\n",
      "2\n",
      "12\n",
      "10\n",
      "17\n"
     ]
    }
   ],
   "source": [
    "X=int(input())\n",
    "H=int(input())\n",
    "M=int(input())\n",
    "print((H*60+X+M)//60)\n",
    "print((H*60+X+M)%60)"
   ]
  },
  {
   "cell_type": "markdown",
   "metadata": {},
   "source": [
    "## Логические операции, операции сравнения"
   ]
  },
  {
   "cell_type": "code",
   "execution_count": 2,
   "metadata": {},
   "outputs": [
    {
     "data": {
      "text/plain": [
       "True"
      ]
     },
     "execution_count": 2,
     "metadata": {},
     "output_type": "execute_result"
    }
   ],
   "source": [
    "a=True\n",
    "b=True\n",
    "((a and b) or ((not a) and (not b)))"
   ]
  },
  {
   "cell_type": "code",
   "execution_count": 23,
   "metadata": {},
   "outputs": [
    {
     "data": {
      "text/plain": [
       "True"
      ]
     },
     "execution_count": 23,
     "metadata": {},
     "output_type": "execute_result"
    }
   ],
   "source": [
    "x = 5\n",
    "y = 10\n",
    "y > x * x or y >= 2 * x and x < y"
   ]
  },
  {
   "cell_type": "code",
   "execution_count": 24,
   "metadata": {},
   "outputs": [
    {
     "data": {
      "text/plain": [
       "False"
      ]
     },
     "execution_count": 24,
     "metadata": {},
     "output_type": "execute_result"
    }
   ],
   "source": [
    "a = True\n",
    "b = False\n",
    "a and b or not a and not b"
   ]
  },
  {
   "cell_type": "markdown",
   "metadata": {},
   "source": [
    "## Условия if, else, elif"
   ]
  },
  {
   "cell_type": "code",
   "execution_count": 1,
   "metadata": {},
   "outputs": [
    {
     "name": "stdout",
     "output_type": "stream",
     "text": [
      "6\n",
      "10\n",
      "8\n",
      "Нормально\n"
     ]
    }
   ],
   "source": [
    "a=int(input())\n",
    "b=int(input())\n",
    "h=int(input())\n",
    "\n",
    "if a <= h <=b:\n",
    "    print('Это нормально')\n",
    "elif h<a:\n",
    "    print('Недосып')\n",
    "else:\n",
    "    print('Пересып')\n",
    "\n",
    "    \n"
   ]
  },
  {
   "cell_type": "code",
   "execution_count": 7,
   "metadata": {},
   "outputs": [
    {
     "name": "stdout",
     "output_type": "stream",
     "text": [
      "2003\n",
      "Обычный\n"
     ]
    }
   ],
   "source": [
    "y=int(input())\n",
    "if 1900<=y<=3000:\n",
    "    if y%4==0 and y%100!=0 or y%400==0:\n",
    "        print('Високосный')\n",
    "    else:\n",
    "        print(\"Обычный\")"
   ]
  },
  {
   "cell_type": "markdown",
   "metadata": {},
   "source": [
    "## Задачи"
   ]
  },
  {
   "cell_type": "code",
   "execution_count": 16,
   "metadata": {},
   "outputs": [
    {
     "name": "stdout",
     "output_type": "stream",
     "text": [
      "3\n",
      "4\n",
      "5\n",
      "6.0\n"
     ]
    }
   ],
   "source": [
    "a=int(input())\n",
    "b=int(input())\n",
    "c=int(input())\n",
    "p=(a+b+c)/2\n",
    "s=(p*(p-a)*(p-b)*(p-c))**(1/2)\n",
    "print(s)"
   ]
  },
  {
   "cell_type": "code",
   "execution_count": 20,
   "metadata": {},
   "outputs": [
    {
     "name": "stdout",
     "output_type": "stream",
     "text": [
      "20\n",
      "True\n"
     ]
    }
   ],
   "source": [
    "n=int(input())\n",
    "print(-15<n<=12 or 14<n<17 or n>=19)"
   ]
  },
  {
   "cell_type": "code",
   "execution_count": 29,
   "metadata": {},
   "outputs": [
    {
     "name": "stdout",
     "output_type": "stream",
     "text": [
      "2\n",
      "3\n",
      "/\n",
      "0.6666666666666666\n"
     ]
    }
   ],
   "source": [
    "f=float(input())\n",
    "s=float(input())\n",
    "o=input()\n",
    "\n",
    "if o=='+':\n",
    "    print(f+s)\n",
    "elif o=='-':\n",
    "    print(f-s)\n",
    "elif o=='*':\n",
    "    print(f*s)\n",
    "elif o=='pow':\n",
    "    print(f**s)\n",
    "elif s==0 and o in ('/','mod','div'):\n",
    "    print('Деление на 0!')\n",
    "elif o=='/':\n",
    "    print(f/s)\n",
    "elif o=='mod':\n",
    "    print(f%s)\n",
    "elif o=='div':\n",
    "    print(f//s)\n",
    "\n",
    "    "
   ]
  },
  {
   "cell_type": "code",
   "execution_count": 1,
   "metadata": {},
   "outputs": [
    {
     "name": "stdout",
     "output_type": "stream",
     "text": [
      "круг\n",
      "1\n",
      "2\n",
      "3\n",
      "4\n",
      "50.24\n"
     ]
    }
   ],
   "source": [
    "fig=input()\n",
    "if fig=='треугольник':\n",
    "    a=float(input())\n",
    "    b=float(input())\n",
    "    c=float(input())\n",
    "    p=(a+b+c)/2\n",
    "    s=(p*(p-a)*(p-b)*(p-c))**(1/2)\n",
    "    print(s)\n",
    "elif fig=='прямоугольник':\n",
    "    a=float(input())\n",
    "    b=float(input())\n",
    "    print(a*b)\n",
    "elif fig=='круг':\n",
    "    r=float(input())\n",
    "    print(3.14*r**2)"
   ]
  },
  {
   "cell_type": "code",
   "execution_count": 13,
   "metadata": {},
   "outputs": [
    {
     "name": "stdout",
     "output_type": "stream",
     "text": [
      "5\n",
      "4\n",
      "5\n",
      "5\n",
      "4\n",
      "5\n",
      "5\n",
      "4\n",
      "5\n"
     ]
    }
   ],
   "source": [
    "#Моё:\n",
    "a=int(input())\n",
    "b=int(input())\n",
    "c=int(input())\n",
    "if a>=b>=c:\n",
    "    print(a,c,b,sep='\\n')\n",
    "elif a>=c>=b:\n",
    "    print(a,b,c,sep='\\n')\n",
    "elif b>=a>=c:\n",
    "    print(b,c,a,sep='\\n')\n",
    "elif b>=c>=a:\n",
    "    print(b,a,c,sep='\\n')\n",
    "elif c>=b>=a:\n",
    "    print(c,a,b,sep='\\n')\n",
    "elif c>=a>=b:\n",
    "    print(c,b,a,sep='\\n')\n",
    "#Понравилось:    \n",
    "a, b = (a, b) if a >= b else (b, a)\n",
    "b, c = (b, c) if b >= c else (c, b)\n",
    "a, b = (a, b) if a >= b else (b, a)\n",
    "print(a,c,b,sep='\\n')\n"
   ]
  },
  {
   "cell_type": "code",
   "execution_count": 131,
   "metadata": {},
   "outputs": [
    {
     "name": "stdout",
     "output_type": "stream",
     "text": [
      "144\n",
      "144 программиста\n"
     ]
    }
   ],
   "source": [
    "#Моё:\n",
    "n=int(input())\n",
    "if n%10==1  and n%100!=10+n%10:  print(n,'программист')\n",
    "elif 1<n%10<5 and n%100!=10+n%10:  print(n,'программиста')\n",
    "else:                            print(n,'программистов')\n",
    "Коротыш:\n",
    "print(n,'программист'+('ов' if n%10==0 or 4<n%10<10 or 10<n%100<15 else 'а' if 1<n%10<5 else ''))\n",
    "Мой коротыш:\n",
    "print(n,'программист'+('ов' if 9<n%100<21 else '' if n%10==1 else 'a' if 1<n%10<5 else 'ов'))"
   ]
  },
  {
   "cell_type": "code",
   "execution_count": null,
   "metadata": {},
   "outputs": [],
   "source": [
    "n=int(input())\n",
    "print('Счастливый' if n//100000+n//10000%10+n//1000%10==n//100%10+n//10%10+n%10 else \"Обычный\")"
   ]
  },
  {
   "cell_type": "markdown",
   "metadata": {},
   "source": [
    "# Вторая неделя"
   ]
  },
  {
   "cell_type": "markdown",
   "metadata": {},
   "source": [
    "## While"
   ]
  },
  {
   "cell_type": "code",
   "execution_count": 1,
   "metadata": {},
   "outputs": [
    {
     "name": "stdout",
     "output_type": "stream",
     "text": [
      "*\n",
      "**\n",
      "*\n",
      "*\n",
      "**\n",
      "*\n",
      "***\n",
      "*\n",
      "**\n",
      "***\n"
     ]
    }
   ],
   "source": [
    "i = 0\n",
    "while i < 5:\n",
    "    print('*')\n",
    "    if i % 2 == 0:\n",
    "        print('**')\n",
    "    if i > 2:\n",
    "        print('***')\n",
    "    i = i + 1"
   ]
  },
  {
   "cell_type": "code",
   "execution_count": 1,
   "metadata": {},
   "outputs": [
    {
     "name": "stdout",
     "output_type": "stream",
     "text": [
      "123\n",
      "2\n",
      "3\n",
      "4\n",
      "0\n",
      "132\n"
     ]
    }
   ],
   "source": [
    "i=0\n",
    "inp=1\n",
    "while inp!=0:\n",
    "    inp=int(input())\n",
    "    i+=inp\n",
    "print(i)"
   ]
  },
  {
   "cell_type": "code",
   "execution_count": 10,
   "metadata": {},
   "outputs": [
    {
     "name": "stdout",
     "output_type": "stream",
     "text": [
      "5\n",
      "6\n",
      "30\n"
     ]
    }
   ],
   "source": [
    "a,b=int(input()),int(input())\n",
    "c=a*b\n",
    "cmin=c\n",
    "while c>b and c>a:\n",
    "    c-=1\n",
    "    if c%b==0 and c%a==0:\n",
    "        cmin=c\n",
    "print(cmin)"
   ]
  },
  {
   "cell_type": "markdown",
   "metadata": {},
   "source": [
    "## Break, Continue"
   ]
  },
  {
   "cell_type": "code",
   "execution_count": 28,
   "metadata": {},
   "outputs": [
    {
     "name": "stdout",
     "output_type": "stream",
     "text": [
      "s 1\n",
      "i 2\n",
      "s 4\n",
      "i 4\n",
      "s 9\n",
      "i 6\n",
      "s 16\n",
      "7\n"
     ]
    }
   ],
   "source": [
    "i = 0\n",
    "s = 0\n",
    "while i < 10:\n",
    "    i = i + 1\n",
    "    print('i1',i) \n",
    "    s = s + i\n",
    "    print('s',s)\n",
    "    if s > 15:\n",
    "        break\n",
    "    i = i + 1\n",
    "    print('i2',i)\n",
    "print(i)\n"
   ]
  },
  {
   "cell_type": "code",
   "execution_count": 30,
   "metadata": {},
   "outputs": [
    {
     "name": "stdout",
     "output_type": "stream",
     "text": [
      "i1 1\n",
      "s 1\n",
      "i2 2\n",
      "i1 3\n",
      "s 4\n",
      "i2 4\n",
      "i1 5\n",
      "s 9\n",
      "i2 6\n",
      "i1 7\n",
      "s 16\n",
      "i1 8\n",
      "s 24\n",
      "i1 9\n",
      "s 33\n",
      "i1 10\n",
      "s 43\n",
      "10\n"
     ]
    }
   ],
   "source": [
    "i = 0\n",
    "s = 0\n",
    "while i < 10:\n",
    "    i = i + 1\n",
    "    print('i1',i)\n",
    "    s = s + i\n",
    "    print('s',s)\n",
    "    if s > 15:\n",
    "        continue\n",
    "    i = i + 1\n",
    "    print('i2',i)\n",
    "print(i)"
   ]
  },
  {
   "cell_type": "code",
   "execution_count": 31,
   "metadata": {},
   "outputs": [
    {
     "name": "stdout",
     "output_type": "stream",
     "text": [
      "1\n",
      "2\n",
      "3\n",
      "11\n",
      "11\n",
      "12\n",
      "12\n",
      "13\n",
      "13\n",
      "101\n"
     ]
    }
   ],
   "source": [
    "while True:\n",
    "    i=int(input())\n",
    "    if i <10:\n",
    "        continue\n",
    "    elif i >100:\n",
    "        break\n",
    "    else:\n",
    "        print(i)"
   ]
  },
  {
   "cell_type": "markdown",
   "metadata": {},
   "source": [
    "## For"
   ]
  },
  {
   "cell_type": "code",
   "execution_count": 2,
   "metadata": {},
   "outputs": [
    {
     "name": "stdout",
     "output_type": "stream",
     "text": [
      "4\n",
      "5\n",
      "6\n",
      "7\n",
      "\t6\t7\n",
      "4\t24\t28\n",
      "5\t30\t35\n",
      "2\n",
      "4\n",
      "2\n",
      "5\n",
      "\t2\t3\t4\t5\n",
      "2\t4\t6\t8\t10\t\n",
      "3\t6\t9\t12\t15\t\n",
      "4\t8\t12\t16\t20\t\n"
     ]
    }
   ],
   "source": [
    "#Моё\n",
    "a=int(input())\n",
    "b=int(input())\n",
    "c=int(input())\n",
    "d=int(input())\n",
    "header=''\n",
    "for col in range(c,d+1):\n",
    "    header=header+'\\t'+str(col)\n",
    "print(header)\n",
    "for row in range (a,b+1):\n",
    "    cells=str(row)\n",
    "    for col in range(c,d+1):\n",
    "        cells=cells+'\\t'+str(col*row)\n",
    "    print(cells)\n",
    "    \n",
    "#Понравилось\n",
    "a, b, c, d = int(input()), int(input()), int(input()), int(input())\n",
    "for i in range(c, d + 1):\n",
    "    print('\\t'+str(i), end='')\n",
    "print()\n",
    "for j in range(a, b + 1):\n",
    "    print(j, end='\\t')\n",
    "    for k in range(c, d + 1):\n",
    "        print(j * k, end='\\t')\n",
    "    print()"
   ]
  },
  {
   "cell_type": "code",
   "execution_count": 3,
   "metadata": {},
   "outputs": [
    {
     "name": "stdout",
     "output_type": "stream",
     "text": [
      "-4\n",
      "2\n",
      "-1.5\n",
      "-1.5\n",
      "-1.5\n"
     ]
    }
   ],
   "source": [
    "#Моё:\n",
    "a=int(input())\n",
    "b=int(input())\n",
    "sm,cn,av=0,0,None\n",
    "for i in range(a,b+1):\n",
    "    if i%3==0:\n",
    "        sm+=i\n",
    "        cn+=1\n",
    "        av=sm/cn\n",
    "print(av)\n",
    "#Понравилось:\n",
    "a += -a%3\n",
    "b -= b%3\n",
    "print((a+b)/2)\n",
    "#На вдохновении\n",
    "for i in range(a+(-a%3),b-b%3+1,3):\n",
    "        sm+=i\n",
    "        cn+=1\n",
    "        av=sm/cn\n",
    "print(av)"
   ]
  },
  {
   "cell_type": "markdown",
   "metadata": {},
   "source": [
    "## Строки"
   ]
  },
  {
   "cell_type": "code",
   "execution_count": 20,
   "metadata": {},
   "outputs": [
    {
     "name": "stdout",
     "output_type": "stream",
     "text": [
      "asdfaasdcgcg\n",
      "33.33333333333333\n"
     ]
    }
   ],
   "source": [
    "a=input()\n",
    "a=a.upper()\n",
    "#Можно было записать a=input().upper()\n",
    "print((a.count('C')+a.count('G'))/len(a)*100)"
   ]
  },
  {
   "cell_type": "code",
   "execution_count": 17,
   "metadata": {},
   "outputs": [
    {
     "name": "stdout",
     "output_type": "stream",
     "text": [
      "def abcdef defghijk kjihgfedcba ijk abcde kigec\n",
      "1\n",
      "1\n"
     ]
    }
   ],
   "source": [
    "s = 'abcdefghijk'\n",
    "print(s[3:6],end=' ') # [3;6)\n",
    "print(s[:6],end=' ') # [0;6)\n",
    "print(s[3:],end=' ') # [3;последний]\n",
    "print(s[::-1],end=' ') # [последний;0]\n",
    "print(s[-3:],end=' ') # [3-й с конца; последний] \n",
    "print(s[:-6],end=' ') # [0;6-ой с конца)\n",
    "print(s[-1:-10:-2]) # [1-ый с конца; 10-й с конца)\n",
    "#Для s длинной m\n",
    "#s[x:y] --> Все символы [(m+x)%m+1 ; (m+y)%m+1).\n",
    "#Т.е. С (m+x)%m+1 включительно и ПО (m+y)%m+1 НЕ включительно\n",
    "m=11      # Длина списка \n",
    "n=-0      # Значение атрибута в s[n:n]\n",
    "print((m+n)%m+1) # Порядковый номер символа\n",
    "print((m+n)%m+1+n//m*m) #Порядковый номер символа, для случая n>=m"
   ]
  },
  {
   "cell_type": "code",
   "execution_count": 2,
   "metadata": {},
   "outputs": [
    {
     "name": "stdout",
     "output_type": "stream",
     "text": [
      "asdffdsaasdf\n",
      "a1s1d1f2d1s1a2s1d1f1\n",
      "asdffdsaasdf\n",
      "a1s1d1f2d1s1a2s1d1f1asdffdsaasdf\n",
      "a1s1d1f2d1s1a2s1d1f1"
     ]
    }
   ],
   "source": [
    "#Moё:\n",
    "\n",
    "string=input()\n",
    "encodedstring=''\n",
    "symbol=''\n",
    "counter=''\n",
    "for i in string:\n",
    "    if symbol==i:\n",
    "        counter+=1\n",
    "    else:\n",
    "        encodedstring+=symbol+str(counter)\n",
    "        counter=1\n",
    "        symbol=i\n",
    "        \n",
    "encodedstring+=symbol+str(counter)\n",
    "print(encodedstring)\n",
    "\n",
    "#Понравилось:\n",
    "\n",
    "genome = input()+' '\n",
    "s = 0\n",
    "n=genome[0]\n",
    "for i in genome:      \n",
    "    if n!=i:\n",
    "        print(n + str(s), end = '')\n",
    "        s=0\n",
    "        n=i\n",
    "    s+=1\n",
    "\n",
    "#На вдохновении:\n",
    "\n",
    "string=input()+' '\n",
    "symbol=''\n",
    "counter=''\n",
    "for i in string:\n",
    "    if symbol!=i:\n",
    "        print(symbol+str(counter),end='')\n",
    "        counter=0\n",
    "        symbol=i\n",
    "    counter+=1"
   ]
  },
  {
   "cell_type": "code",
   "execution_count": null,
   "metadata": {},
   "outputs": [],
   "source": []
  },
  {
   "cell_type": "code",
   "execution_count": null,
   "metadata": {},
   "outputs": [],
   "source": []
  }
 ],
 "metadata": {
  "kernelspec": {
   "display_name": "Python 3",
   "language": "python",
   "name": "python3"
  },
  "language_info": {
   "codemirror_mode": {
    "name": "ipython",
    "version": 3
   },
   "file_extension": ".py",
   "mimetype": "text/x-python",
   "name": "python",
   "nbconvert_exporter": "python",
   "pygments_lexer": "ipython3",
   "version": "3.7.4"
  }
 },
 "nbformat": 4,
 "nbformat_minor": 2
}
