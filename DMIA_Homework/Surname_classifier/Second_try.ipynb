{
 "cells": [
  {
   "cell_type": "code",
   "execution_count": 1,
   "metadata": {},
   "outputs": [],
   "source": [
    "import numpy as np\n",
    "import pandas as pd\n",
    "from sklearn.linear_model import LogisticRegression\n",
    "from sklearn.metrics import accuracy_score\n",
    "from sklearn.metrics import roc_auc_score\n",
    "from sklearn.model_selection import cross_val_score"
   ]
  },
  {
   "cell_type": "code",
   "execution_count": 2,
   "metadata": {},
   "outputs": [
    {
     "name": "stdout",
     "output_type": "stream",
     "text": [
      "1 0 1\n"
     ]
    }
   ],
   "source": [
    "def istitle(x):\n",
    "    if x[0:1].isupper()!=x[1:2].isupper():\n",
    "        return 1\n",
    "    else:\n",
    "        return 0\n",
    "print(istitle('Привет'),istitle('ПРивет'),istitle('пРивет'))"
   ]
  },
  {
   "cell_type": "code",
   "execution_count": 3,
   "metadata": {},
   "outputs": [],
   "source": [
    "def is_titled(x):\n",
    "    firstlet=[]\n",
    "    for i in x:\n",
    "        firstlet.append([istitle(i)])\n",
    "    return firstlet"
   ]
  },
  {
   "cell_type": "code",
   "execution_count": 4,
   "metadata": {},
   "outputs": [],
   "source": [
    "surnames=pd.read_csv(r\"/home/yury/Repository/Sandbox/DMIA_Homework/Surname_classifier/linear_train.txt\", names=['Word','Lastname'],sep=',')\n",
    "test=pd.read_csv(r\"/home/yury/Repository/Sandbox/DMIA_Homework/Surname_classifier/linear_test.txt\", names=['Word'],sep=',')"
   ]
  },
  {
   "cell_type": "code",
   "execution_count": 5,
   "metadata": {},
   "outputs": [
    {
     "data": {
      "text/plain": [
       "pandas.core.frame.DataFrame"
      ]
     },
     "execution_count": 5,
     "metadata": {},
     "output_type": "execute_result"
    }
   ],
   "source": [
    "type(surnames)"
   ]
  },
  {
   "cell_type": "code",
   "execution_count": 6,
   "metadata": {},
   "outputs": [],
   "source": [
    "from sklearn.feature_extraction.text import CountVectorizer"
   ]
  },
  {
   "cell_type": "code",
   "execution_count": 7,
   "metadata": {},
   "outputs": [],
   "source": [
    "def get_in_shape_by_syl(x):\n",
    "    vectorizer1=CountVectorizer(analyzer='char_wb',min_df=3, ngram_range=(2,3))\n",
    "    last_syls1 = vectorizer1.fit_transform([i[-3:].lower() for i in x])\n",
    "    last_syls1 = last_syls1.toarray()\n",
    "    return np.hstack((is_titled(x),last_syls1)),vectorizer1"
   ]
  },
  {
   "cell_type": "code",
   "execution_count": 8,
   "metadata": {},
   "outputs": [],
   "source": [
    "def get_in_shape_by_syl_fin(x):\n",
    "    last_syls1 = vectorizer1.transform([i for i.lower in x])\n",
    "    last_syls1 = last_syls1.toarray()\n",
    "    return np.hstack((is_titled(x),last_syls1))"
   ]
  },
  {
   "cell_type": "raw",
   "metadata": {},
   "source": [
    "df=pd.DataFrame(last_syls)"
   ]
  },
  {
   "cell_type": "raw",
   "metadata": {},
   "source": [
    "df.to_csv('test.csv',sep=',')"
   ]
  },
  {
   "cell_type": "raw",
   "metadata": {},
   "source": [
    "import pandas as pd\n",
    "test=pd.read_csv(r\"/home/yury/Repository/Sandbox/DMIA_Homework/Surname_classifier/test.csv\", sep=',')"
   ]
  },
  {
   "cell_type": "raw",
   "metadata": {},
   "source": [
    "x_train=test.values[:,1:-1]\n",
    "y_train=test.values[:,-1]\n",
    "print(len(x_train))\n",
    "print(len(y_train))\n",
    "print('x:',x_train[:10],'...',x_train[-10:])\n",
    "print('y:',y_train[:10],'...',y_train[-10:])"
   ]
  },
  {
   "cell_type": "code",
   "execution_count": null,
   "metadata": {},
   "outputs": [],
   "source": [
    "x_shaped,vectorizer1=get_in_shape_by_syl(surnames['Word'])\n",
    "print('Dense matrix shape', x_shaped.data.shape)"
   ]
  },
  {
   "cell_type": "code",
   "execution_count": null,
   "metadata": {},
   "outputs": [],
   "source": [
    "num_2_words = {\n",
    "    v: k\n",
    "    for k, v in vectorizer1.vocabulary_.items()\n",
    "}\n",
    "num_2_words"
   ]
  },
  {
   "cell_type": "code",
   "execution_count": null,
   "metadata": {},
   "outputs": [],
   "source": [
    "algor = LogisticRegression(penalty='l1', C=0.1)"
   ]
  },
  {
   "cell_type": "code",
   "execution_count": null,
   "metadata": {},
   "outputs": [],
   "source": [
    "arr = cross_val_score(algor, x_shaped, surnames['Lastname'], cv=5, scoring='roc_auc')\n",
    "print(arr)\n",
    "print(np.mean(arr))"
   ]
  },
  {
   "cell_type": "code",
   "execution_count": null,
   "metadata": {},
   "outputs": [],
   "source": [
    "algor.fit(x_shaped,surnames['Lastname'])"
   ]
  },
  {
   "cell_type": "code",
   "execution_count": null,
   "metadata": {},
   "outputs": [],
   "source": [
    "y_test=algor.predict(get_in_shape_by_syl__fin(x_test))"
   ]
  },
  {
   "cell_type": "code",
   "execution_count": null,
   "metadata": {},
   "outputs": [],
   "source": [
    "algor.predict(get_in_shape_by_syl_fin(['глушко']))"
   ]
  },
  {
   "cell_type": "code",
   "execution_count": null,
   "metadata": {},
   "outputs": [],
   "source": [
    "for i in x_test[:2000]:\n",
    "    print(i,algor.predict(get_in_shape_by_char_fin([i])))"
   ]
  },
  {
   "cell_type": "code",
   "execution_count": null,
   "metadata": {},
   "outputs": [],
   "source": [
    "df=pd.DataFrame(y_test,columns=['Answer'],dtype='float')"
   ]
  },
  {
   "cell_type": "code",
   "execution_count": null,
   "metadata": {},
   "outputs": [],
   "source": [
    "df.to_csv('Submissions.csv')"
   ]
  },
  {
   "cell_type": "code",
   "execution_count": null,
   "metadata": {},
   "outputs": [],
   "source": [
    "def vect(x):\n",
    "    global a\n",
    "    a=x\n",
    "vect(6)"
   ]
  },
  {
   "cell_type": "code",
   "execution_count": null,
   "metadata": {},
   "outputs": [],
   "source": [
    "a"
   ]
  },
  {
   "cell_type": "code",
   "execution_count": null,
   "metadata": {},
   "outputs": [],
   "source": [
    "a=7"
   ]
  },
  {
   "cell_type": "code",
   "execution_count": null,
   "metadata": {},
   "outputs": [],
   "source": []
  }
 ],
 "metadata": {
  "kernelspec": {
   "display_name": "Python 3",
   "language": "python",
   "name": "python3"
  },
  "language_info": {
   "codemirror_mode": {
    "name": "ipython",
    "version": 3
   },
   "file_extension": ".py",
   "mimetype": "text/x-python",
   "name": "python",
   "nbconvert_exporter": "python",
   "pygments_lexer": "ipython3",
   "version": "3.7.4"
  }
 },
 "nbformat": 4,
 "nbformat_minor": 2
}
